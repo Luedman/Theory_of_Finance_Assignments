{
 "cells": [
  {
   "attachments": {},
   "cell_type": "markdown",
   "metadata": {},
   "source": [
    "## Assignement 5\n",
    "Lukas Schreiner, Asse Reinhardus, Max Tragl"
   ]
  },
  {
   "cell_type": "code",
   "execution_count": 1,
   "metadata": {},
   "outputs": [],
   "source": [
    "#Import Libraries\n",
    "import numpy as np\n",
    "import scipy.stats as st"
   ]
  },
  {
   "cell_type": "markdown",
   "metadata": {},
   "source": [
    "### Question 1.1"
   ]
  },
  {
   "cell_type": "code",
   "execution_count": 2,
   "metadata": {},
   "outputs": [
    {
     "name": "stdout",
     "output_type": "stream",
     "text": [
      "The European Call has a price of:  1.47\n"
     ]
    }
   ],
   "source": [
    "interest = (100-98)/100\n",
    "\n",
    "n = (5 - 0) / (65 - 45)\n",
    "m = (0 - 45*n) / (1 + interest)\n",
    "\n",
    "C = np.round(n * 50 + m * 1,2)\n",
    "print(\"The European Call has a price of: \",C)"
   ]
  },
  {
   "cell_type": "markdown",
   "metadata": {},
   "source": [
    "### Question 1.2\n",
    "Yes you could replicate the call option with bonds and the underlying such that the payoff of the call and the portfolio are the same. Then you buy this portfolio witch should have a value of 1.47 and short the call which is trading at 2. Your payoff at maturity is zero but you make a riskless profit of (2 - 1.47 = 0.53)"
   ]
  },
  {
   "cell_type": "markdown",
   "metadata": {},
   "source": [
    "### Question 1.3\n"
   ]
  },
  {
   "cell_type": "code",
   "execution_count": 3,
   "metadata": {},
   "outputs": [
    {
     "name": "stdout",
     "output_type": "stream",
     "text": [
      "The European Put should have a price of:  10.29\n"
     ]
    }
   ],
   "source": [
    "n = (0 - 15) / (65 - 45)\n",
    "m = (15 - 45*n) / (1 + interest)\n",
    "\n",
    "P = np.round(n * 50 + m * 1,2)\n",
    "print(\"The European Put should have a price of: \",P)"
   ]
  },
  {
   "cell_type": "code",
   "execution_count": 4,
   "metadata": {},
   "outputs": [
    {
     "name": "stdout",
     "output_type": "stream",
     "text": [
      "60.29\n",
      "60.29\n",
      "Put Call Parity is satisfied if the put would have been correctly priced\n"
     ]
    }
   ],
   "source": [
    "#Call price plus discounted strike \n",
    "print(np.round(C + 60/1.02,2))\n",
    "\n",
    "#Put price plus current price of the underlying \n",
    "print(P + 50)\n",
    "print(\"Put Call Parity is satisfied if the put would have been correctly priced\")"
   ]
  },
  {
   "cell_type": "code",
   "execution_count": null,
   "metadata": {},
   "outputs": [],
   "source": []
  },
  {
   "cell_type": "code",
   "execution_count": null,
   "metadata": {},
   "outputs": [],
   "source": []
  },
  {
   "cell_type": "markdown",
   "metadata": {},
   "source": [
    "### Question 2.1\n",
    "\n",
    "The red line describes a call option with strike K = 30 and maturity one year <br>\n",
    "The dark blue line describes a call option with strike K = 60 and maturity one year <br>\n",
    "The light blue line describes a call option with strike K = 60 and maturity 6 months year <br>\n",
    "\n",
    "The purple line describes a put option with strike K = 30 and maturity one year <br>\n",
    "The yellow line describes a put option with strike K = 60 and maturity one year <br>\n",
    "The grey blue line describes a put option with strike K = 60 and maturity 6 months year <br>\n",
    "\n",
    "\n",
    "The reason for that is that call options exhibit a delta between 0 and 1 (option price rises is the price of the underlying rises), whereas  put options have a delta bewteen 0 and -1 (option prices goes down as the underlying rises). \n",
    "As we approach maturity the probability of getting from out-of-the-money into in-of-the-money and vice versa gets lower. For that reason more of the in-of-the-money the money options tend to exhibit the same price movments as the underlying which leads to to a steeper slope of the delta curve. "
   ]
  },
  {
   "cell_type": "markdown",
   "metadata": {},
   "source": [
    "### Question 2"
   ]
  },
  {
   "cell_type": "code",
   "execution_count": 5,
   "metadata": {},
   "outputs": [],
   "source": [
    "def black_scholes(S, K, T, r, sigma, opt_type):\n",
    "    \n",
    "    #S: spot price\n",
    "    #K: strike price\n",
    "    #T: time to maturity\n",
    "    #r: interest rate\n",
    "    #sigma: volatility of underlying asset\n",
    "    #opt_type: type of option \n",
    "    \n",
    "    d1 = (np.log(S / K) + (r + 0.5 * sigma ** 2) * T) / (sigma * np.sqrt(T))\n",
    "    d2 = (np.log(S / K) + (r - 0.5 * sigma ** 2) * T) / (sigma * np.sqrt(T))\n",
    "    \n",
    "    call = (S * st.norm.cdf(d1, 0.0, 1.0) - K * np.exp(-r * T) * st.norm.cdf(d2, 0.0, 1.0))\n",
    "    put = (K * np.exp(-r * T) * st.norm.cdf(-d2, 0.0, 1.0) - S * st.norm.cdf(-d1, 0.0, 1.0))\n",
    "    \n",
    "    delta_call = st.norm.cdf(d1, 0.0, 1.0)\n",
    "    delta_put = -st.norm.cdf(-d1, 0.0, 1.0)\n",
    "    \n",
    "    if opt_type.upper() == 'CALL':\n",
    "        return np.round(call,4), np.round(delta_call,4)\n",
    "    \n",
    "    if opt_type.upper() == 'PUT':\n",
    "        return np.round(put,4), np.round(delta_put,4)\n"
   ]
  },
  {
   "cell_type": "markdown",
   "metadata": {},
   "source": [
    "### Question 2.2"
   ]
  },
  {
   "cell_type": "code",
   "execution_count": 6,
   "metadata": {},
   "outputs": [
    {
     "name": "stdout",
     "output_type": "stream",
     "text": [
      "Option 1 Delta:  0.54\n",
      "Option 2 Delta:  0.9354\n",
      "Option 3 Delta:  0.3498\n",
      "Strategy Delta  258.57\n"
     ]
    }
   ],
   "source": [
    "#Strategy 1\n",
    "sp500_price = 2740\n",
    "sp500_sigma = 0.18\n",
    "interest_rate_a = 0.02\n",
    "\n",
    "opt1a_delta = black_scholes(sp500_price, 2740, 3/12, interest_rate_a, sp500_sigma,'Call')[1]\n",
    "opt2a_delta = black_scholes(sp500_price, 2300, 6/12, interest_rate_a, sp500_sigma,'Call')[1]\n",
    "opt3a_delta = black_scholes(sp500_price, 2990, 9/12, interest_rate_a, sp500_sigma,'Call')[1]\n",
    "\n",
    "print(\"Option 1 Delta: \", opt1a_delta)\n",
    "print(\"Option 2 Delta: \", opt2a_delta)\n",
    "print(\"Option 3 Delta: \", opt3a_delta)\n",
    "\n",
    "strategya_delta = 100 * opt1a_delta + 200 * opt2a_delta + 50 * opt3a_delta\n",
    "print(\"Strategy Delta \", strategya_delta)"
   ]
  },
  {
   "cell_type": "code",
   "execution_count": 7,
   "metadata": {},
   "outputs": [
    {
     "name": "stdout",
     "output_type": "stream",
     "text": [
      "Option 1 Delta:  -0.5539\n",
      "Option 2 Delta:  0.6927\n",
      "Option 3 Delta:  -0.278\n",
      "Strategy Delta  0.5535\n"
     ]
    }
   ],
   "source": [
    "#Strategy 2\n",
    "SMI_price = 8900\n",
    "SMI_sigma = 0.18\n",
    "interest_rate_b = 0.02\n",
    "\n",
    "opt1b_delta = black_scholes(SMI_price, 8990, 1/12, interest_rate_b, SMI_sigma,'Put')[1]\n",
    "opt2b_delta = black_scholes(SMI_price, 8500, 6/12, interest_rate_b, SMI_sigma,'Call')[1]\n",
    "opt3b_delta = black_scholes(SMI_price, 8300, 12/12, interest_rate_b, SMI_sigma,'Put')[1]\n",
    "\n",
    "print(\"Option 1 Delta: \", opt1b_delta)\n",
    "print(\"Option 2 Delta: \", opt2b_delta)\n",
    "print(\"Option 3 Delta: \", opt3b_delta)\n",
    "\n",
    "strategyb_delta = 1 * opt1b_delta + 2 * opt2b_delta + 1 * opt3b_delta\n",
    "print(\"Strategy Delta \", strategyb_delta)"
   ]
  },
  {
   "cell_type": "code",
   "execution_count": 8,
   "metadata": {},
   "outputs": [
    {
     "name": "stdout",
     "output_type": "stream",
     "text": [
      "Option 1 Delta:  -0.368\n",
      "Option 2 Delta:  0.632\n",
      "Strategy Delta  0.264\n"
     ]
    }
   ],
   "source": [
    "#Strategy 3\n",
    "DAX_price = 109000\n",
    "DAX_sigma = 0.12\n",
    "interest_rate_c = 0.05\n",
    "\n",
    "opt1c_delta = black_scholes(DAX_price, 109000, 6/12, interest_rate_c, DAX_sigma,'Put')[1]\n",
    "opt2c_delta = black_scholes(DAX_price, 109000, 6/12, interest_rate_c, DAX_sigma,'Call')[1]\n",
    "\n",
    "\n",
    "print(\"Option 1 Delta: \", opt1c_delta)\n",
    "print(\"Option 2 Delta: \", opt2c_delta)\n",
    "\n",
    "strategyc_delta = 1 * opt1c_delta + 1 * opt2c_delta\n",
    "print(\"Strategy Delta \", strategyc_delta)"
   ]
  },
  {
   "cell_type": "markdown",
   "metadata": {},
   "source": [
    "### Question 3.1"
   ]
  },
  {
   "cell_type": "code",
   "execution_count": 9,
   "metadata": {},
   "outputs": [],
   "source": [
    "#Parameters\n",
    "strike = 2000\n",
    "S_0 = 2000\n",
    "h = 1/6"
   ]
  },
  {
   "cell_type": "code",
   "execution_count": 10,
   "metadata": {},
   "outputs": [],
   "source": [
    "def create_tree_underlying(vol):\n",
    "    \n",
    "    u = np.exp(np.sqrt(vol*h))\n",
    "    d = 1/u\n",
    "\n",
    "    def add_tree_layer(input_layer):\n",
    "        results = []\n",
    "        \n",
    "        #Up\n",
    "        [results.append(values * u) for values in input_layer]\n",
    "\n",
    "        #Down\n",
    "        results.append(input_layer[0] * d)\n",
    "\n",
    "        return list(np.round(np.sort(results),2))\n",
    "    \n",
    "    tree_data = []\n",
    "    #Period 0\n",
    "    tree_data.append(S_0)\n",
    "    #Period 1\n",
    "    tree_data.append(np.round([S_0 * d, S_0 * u],2))\n",
    "\n",
    "    #Periods 2 to 6\n",
    "    for i in range(1,6):\n",
    "        tree_data.append(add_tree_layer(tree_data[i]))\n",
    "        \n",
    "    [print(tree_data[i]) for i in range(0,7)] \n",
    "    \n",
    "    return tree_data"
   ]
  },
  {
   "cell_type": "code",
   "execution_count": 11,
   "metadata": {},
   "outputs": [
    {
     "name": "stdout",
     "output_type": "stream",
     "text": [
      "2000\n",
      "[1666.25 2400.61]\n",
      "[1388.19, 2000.01, 2881.46]\n",
      "[1156.53, 1666.25, 2400.62, 3458.63]\n",
      "[963.53, 1388.19, 2000.01, 2881.47, 4151.4]\n",
      "[802.74, 1156.53, 1666.25, 2400.62, 3458.64, 4982.94]\n",
      "[668.78, 963.53, 1388.19, 2000.01, 2881.47, 4151.42, 5981.04]\n"
     ]
    }
   ],
   "source": [
    "tree_data1 = create_tree_underlying(0.2)"
   ]
  },
  {
   "cell_type": "markdown",
   "metadata": {},
   "source": [
    "### Question 3.1"
   ]
  },
  {
   "cell_type": "code",
   "execution_count": 12,
   "metadata": {},
   "outputs": [],
   "source": [
    "def create_tree_derivative_pricing(vol, tree_data):\n",
    "    \n",
    "    u = np.exp(vol*np.sqrt(h))\n",
    "    d = 1/u\n",
    "     \n",
    "    #Risk Neutral Probabilities\n",
    "    q = np.round((np.exp(0) - d) / (u - d),4)\n",
    "    print(\"Risk Neutral Probability (Up): \", q)\n",
    "    \n",
    "    #Find Payoffs at the final node\n",
    "    payoff_layer = np.round(np.log(np.divide(strike,tree_data[-1])),4)\n",
    "    \n",
    "    #Backpropageagtion Algorithm\n",
    "    #Calculate the expected Values by with the risk neutral probabilities per layer\n",
    "    def add_tree_layer_future(input_layer):\n",
    "\n",
    "        results = []\n",
    "\n",
    "        [results.append(input_layer[i]*(1 - q) + input_layer[i+1] * q) for i in range(0,len(input_layer) - 1)]\n",
    "\n",
    "        return list(np.round(results,4))\n",
    "    \n",
    "    #Initilialize the value of the future tree\n",
    "    tree_data_future = []\n",
    "    #First Iteration\n",
    "    tree_data_future.append(add_tree_layer_future(payoff_layer))\n",
    "    #Subsequent Iterations\n",
    "    for i in range(0,5):\n",
    "        tree_data_future.append(add_tree_layer_future(tree_data_future[i]))\n",
    "        \n",
    "    [print(tree_data_future[i]) for i in range(0,len(tree_data_future))]\n",
    "    \n",
    "    print(\"Future Price is: \", tree_data_future[-1][0])\n",
    "    "
   ]
  },
  {
   "cell_type": "code",
   "execution_count": 13,
   "metadata": {},
   "outputs": [
    {
     "name": "stdout",
     "output_type": "stream",
     "text": [
      "Risk Neutral Probability (Up):  0.4796\n",
      "[0.9203, 0.5552, 0.19, -0.1751, -0.5403, -0.9054]\n",
      "[0.7452, 0.3801, 0.0149, -0.3502, -0.7154]\n",
      "[0.5701, 0.205, -0.1602, -0.5253]\n",
      "[0.395, 0.0299, -0.3353]\n",
      "[0.2199, -0.1452]\n",
      "[0.0448]\n",
      "Future Price is:  0.0448\n"
     ]
    }
   ],
   "source": [
    "create_tree_derivative_pricing(0.2, tree_data1)"
   ]
  },
  {
   "cell_type": "markdown",
   "metadata": {},
   "source": [
    "### Question 3.3.1"
   ]
  },
  {
   "cell_type": "code",
   "execution_count": 14,
   "metadata": {},
   "outputs": [
    {
     "name": "stdout",
     "output_type": "stream",
     "text": [
      "2000\n",
      "[1630.72 2452.9 ]\n",
      "[1329.63, 2000.0, 3008.36]\n",
      "[1084.13, 1630.73, 2452.9, 3689.6]\n",
      "[883.96, 1329.63, 2000.01, 3008.36, 4525.11]\n",
      "[720.75, 1084.13, 1630.73, 2452.91, 3689.6, 5549.82]\n",
      "[587.67, 883.96, 1329.63, 2000.01, 3008.37, 4525.11, 6806.58]\n"
     ]
    }
   ],
   "source": [
    "tree_data2 = create_tree_underlying(0.25)"
   ]
  },
  {
   "cell_type": "code",
   "execution_count": 15,
   "metadata": {},
   "outputs": [
    {
     "name": "stdout",
     "output_type": "stream",
     "text": [
      "Risk Neutral Probability (Up):  0.4745\n",
      "[1.031, 0.6228, 0.2145, -0.1937, -0.602, -1.0102]\n",
      "[0.8373, 0.4291, 0.0208, -0.3874, -0.7957]\n",
      "[0.6436, 0.2354, -0.1729, -0.5811]\n",
      "[0.4499, 0.0417, -0.3666]\n",
      "[0.2562, -0.152]\n",
      "[0.0625]\n",
      "Future Price is:  0.0625\n"
     ]
    }
   ],
   "source": [
    "create_tree_derivative_pricing(0.25, tree_data2)"
   ]
  },
  {
   "cell_type": "markdown",
   "metadata": {},
   "source": [
    "### Question 3.3.2"
   ]
  },
  {
   "cell_type": "code",
   "execution_count": 16,
   "metadata": {},
   "outputs": [
    {
     "name": "stdout",
     "output_type": "stream",
     "text": [
      "2000\n",
      "[1599.26 2501.16]\n",
      "[1278.82, 2000.0, 3127.9]\n",
      "[1022.58, 1599.27, 2501.16, 3911.69]\n",
      "[817.69, 1278.82, 2000.01, 3127.9, 4891.88]\n",
      "[653.85, 1022.59, 1599.27, 2501.17, 3911.69, 6117.68]\n",
      "[522.84, 817.69, 1278.83, 2000.01, 3127.91, 4891.88, 7650.64]\n"
     ]
    }
   ],
   "source": [
    "tree_data3 = create_tree_underlying(0.3)"
   ]
  },
  {
   "cell_type": "code",
   "execution_count": 17,
   "metadata": {},
   "outputs": [
    {
     "name": "stdout",
     "output_type": "stream",
     "text": [
      "Risk Neutral Probability (Up):  0.4694\n",
      "[1.1317, 0.6845, 0.2373, -0.2099, -0.6571, -1.1043]\n",
      "[0.9218, 0.4746, 0.0274, -0.4198, -0.867]\n",
      "[0.7119, 0.2647, -0.1825, -0.6297]\n",
      "[0.502, 0.0548, -0.3924]\n",
      "[0.2921, -0.1551]\n",
      "[0.0822]\n",
      "Future Price is:  0.0822\n"
     ]
    }
   ],
   "source": [
    "create_tree_derivative_pricing(0.3, tree_data3)"
   ]
  },
  {
   "cell_type": "markdown",
   "metadata": {},
   "source": [
    "### Question 3.4\n",
    "The higher the volatility, the higher the price of the derivative. The reason for that is that the probability of ending up in the money and receiving a (high) payoff rises as the volatility increases. "
   ]
  }
 ],
 "metadata": {
  "kernelspec": {
   "display_name": "Python 3",
   "language": "python",
   "name": "python3"
  },
  "language_info": {
   "codemirror_mode": {
    "name": "ipython",
    "version": 3
   },
   "file_extension": ".py",
   "mimetype": "text/x-python",
   "name": "python",
   "nbconvert_exporter": "python",
   "pygments_lexer": "ipython3",
   "version": "3.6.7"
  }
 },
 "nbformat": 4,
 "nbformat_minor": 2
}
