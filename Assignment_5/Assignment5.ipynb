{
 "cells": [
  {
   "cell_type": "markdown",
   "metadata": {},
   "source": [
    "## Assignement 5"
   ]
  },
  {
   "cell_type": "code",
   "execution_count": 1,
   "metadata": {},
   "outputs": [],
   "source": [
    "#Import Libraries\n",
    "import numpy as np\n",
    "import scipy.stats as st"
   ]
  },
  {
   "cell_type": "markdown",
   "metadata": {},
   "source": [
    "### Question 1.1"
   ]
  },
  {
   "cell_type": "code",
   "execution_count": 2,
   "metadata": {},
   "outputs": [
    {
     "name": "stdout",
     "output_type": "stream",
     "text": [
      "The European Call has a price of  4.17\n"
     ]
    }
   ],
   "source": [
    "#Calculta Interest\n",
    "interest = (100-98)/100\n",
    "strike = 60\n",
    "\n",
    "#Calculate the exp. payoff of the call\n",
    "exp_payoff_call = 0.85*(65 - strike) + 0.15*(0)\n",
    "#Discount the exp. payoff to get the price\n",
    "price_call = round(exp_payoff_call/(1 + interest),2)\n",
    "\n",
    "print(\"The European Call has a price of \", price_call)"
   ]
  },
  {
   "cell_type": "markdown",
   "metadata": {},
   "source": [
    "### Question 1.2\n",
    "Yes you could replicate the call option with bonds and the underlying such that the payoff of the call and the portfolio are the same. Then you short this portfolio witch should have a value of 4.17 and buy the call which is trading at 2. Your expected payoff is zero but you make a riskless profit of 2.17."
   ]
  },
  {
   "cell_type": "markdown",
   "metadata": {},
   "source": [
    "### Question 1.3\n"
   ]
  },
  {
   "cell_type": "code",
   "execution_count": 3,
   "metadata": {},
   "outputs": [
    {
     "name": "stdout",
     "output_type": "stream",
     "text": [
      "The European Put has a value of  2.21\n"
     ]
    }
   ],
   "source": [
    "#Calculate the exp. payoff of the call\n",
    "exp_payoff_put = 0.85*(0) + 0.15*(strike - 45)\n",
    "#Discount the exp. payoff to get the price\n",
    "price_put = round(exp_payoff_put/(1 + interest),2)\n",
    "\n",
    "print(\"The European Put has a value of \", price_put)"
   ]
  },
  {
   "cell_type": "code",
   "execution_count": 4,
   "metadata": {},
   "outputs": [
    {
     "name": "stdout",
     "output_type": "stream",
     "text": [
      "58.82\n"
     ]
    }
   ],
   "source": [
    "#Present value of the strike\n",
    "pv_strike = round(strike/(1 + interest),2)\n",
    "print(pv_strike)"
   ]
  },
  {
   "cell_type": "code",
   "execution_count": 5,
   "metadata": {},
   "outputs": [
    {
     "data": {
      "text/plain": [
       "1.96"
      ]
     },
     "execution_count": 5,
     "metadata": {},
     "output_type": "execute_result"
    }
   ],
   "source": [
    "#Check Put Call Parity \n",
    "price_call - price_put"
   ]
  },
  {
   "cell_type": "code",
   "execution_count": 6,
   "metadata": {},
   "outputs": [
    {
     "data": {
      "text/plain": [
       "4.901960784313726"
      ]
     },
     "execution_count": 6,
     "metadata": {},
     "output_type": "execute_result"
    }
   ],
   "source": [
    "5/(1 + interest)"
   ]
  },
  {
   "cell_type": "markdown",
   "metadata": {},
   "source": [
    "### Question 2.1\n",
    "\n",
    "The red line describes a call option with strike K = 30 and maturity one year <br>\n",
    "The dark blue line describes a call option with strike K = 60 and maturity one year <br>\n",
    "The light blue line describes a call option with strike K = 60 and maturity 6 months year <br>\n",
    "\n",
    "The purple line describes a put option with strike K = 30 and maturity one year <br>\n",
    "The yellow line describes a put option with strike K = 60 and maturity one year <br>\n",
    "The grey blue line describes a put option with strike K = 60 and maturity 6 months year <br>\n",
    "\n",
    "\n",
    "The reason for that is that call options exhibit a delta between 0 and 1 (option price rises is the price of the underlying rises), whereas  put options have a delta bewteen 0 and -1 (option prices goes down as the underlying rises). \n",
    "As we approach maturity the probability of getting from out-of-the-money into in-of-the-money and vice versa gets lower. For that reason more of the in-of-the-money the money options tend to exhibit the same price movments as the underlying which leads to to a steeper slope of the delta curve. "
   ]
  },
  {
   "cell_type": "markdown",
   "metadata": {},
   "source": [
    "### Question 2"
   ]
  },
  {
   "cell_type": "code",
   "execution_count": 7,
   "metadata": {},
   "outputs": [],
   "source": [
    "def black_scholes(S, K, T, r, sigma, opt_type):\n",
    "    \n",
    "    #S: spot price\n",
    "    #K: strike price\n",
    "    #T: time to maturity\n",
    "    #r: interest rate\n",
    "    #sigma: volatility of underlying asset\n",
    "    #opt_type: type of option \n",
    "    \n",
    "    d1 = (np.log(S / K) + (r + 0.5 * sigma ** 2) * T) / (sigma * np.sqrt(T))\n",
    "    d2 = (np.log(S / K) + (r - 0.5 * sigma ** 2) * T) / (sigma * np.sqrt(T))\n",
    "    \n",
    "    call = (S * st.norm.cdf(d1, 0.0, 1.0) - K * np.exp(-r * T) * st.norm.cdf(d2, 0.0, 1.0))\n",
    "    put = (K * np.exp(-r * T) * st.norm.cdf(-d2, 0.0, 1.0) - S * st.norm.cdf(-d1, 0.0, 1.0))\n",
    "    \n",
    "    delta_call = st.norm.cdf(d1, 0.0, 1.0)\n",
    "    delta_put = -st.norm.cdf(-d1, 0.0, 1.0)\n",
    "    \n",
    "    if opt_type.upper() == 'CALL':\n",
    "        return np.round(call,4), np.round(delta_call,4)\n",
    "    \n",
    "    if opt_type.upper() == 'PUT':\n",
    "        return np.round(put,4), np.round(delta_put,4)\n"
   ]
  },
  {
   "cell_type": "markdown",
   "metadata": {},
   "source": [
    "### Question 2.2"
   ]
  },
  {
   "cell_type": "code",
   "execution_count": 8,
   "metadata": {},
   "outputs": [
    {
     "name": "stdout",
     "output_type": "stream",
     "text": [
      "Option 1 Delta:  0.54\n",
      "Option 2 Delta:  0.9354\n",
      "Option 3 Delta:  0.3498\n",
      "Strategy Delta  258.57\n"
     ]
    }
   ],
   "source": [
    "#Strategy 1\n",
    "sp500_price = 2740\n",
    "sp500_sigma = 0.18\n",
    "interest_rate_a = 0.02\n",
    "\n",
    "opt1a_delta = black_scholes(sp500_price, 2740, 3/12, interest_rate_a, sp500_sigma,'Call')[1]\n",
    "opt2a_delta = black_scholes(sp500_price, 2300, 6/12, interest_rate_a, sp500_sigma,'Call')[1]\n",
    "opt3a_delta = black_scholes(sp500_price, 2990, 9/12, interest_rate_a, sp500_sigma,'Call')[1]\n",
    "\n",
    "print(\"Option 1 Delta: \", opt1a_delta)\n",
    "print(\"Option 2 Delta: \", opt2a_delta)\n",
    "print(\"Option 3 Delta: \", opt3a_delta)\n",
    "\n",
    "strategya_delta = 100 * opt1a_delta + 200 * opt2a_delta + 50 * opt3a_delta\n",
    "print(\"Strategy Delta \", strategya_delta)"
   ]
  },
  {
   "cell_type": "code",
   "execution_count": 9,
   "metadata": {},
   "outputs": [
    {
     "name": "stdout",
     "output_type": "stream",
     "text": [
      "Option 1 Delta:  -0.5539\n",
      "Option 2 Delta:  0.6927\n",
      "Option 3 Delta:  -0.278\n",
      "Strategy Delta  0.5535\n"
     ]
    }
   ],
   "source": [
    "#Strategy 2\n",
    "SMI_price = 8900\n",
    "SMI_sigma = 0.18\n",
    "interest_rate_b = 0.02\n",
    "\n",
    "opt1b_delta = black_scholes(SMI_price, 8990, 1/12, interest_rate_b, SMI_sigma,'Put')[1]\n",
    "opt2b_delta = black_scholes(SMI_price, 8500, 6/12, interest_rate_b, SMI_sigma,'Call')[1]\n",
    "opt3b_delta = black_scholes(SMI_price, 8300, 12/12, interest_rate_b, SMI_sigma,'Put')[1]\n",
    "\n",
    "print(\"Option 1 Delta: \", opt1b_delta)\n",
    "print(\"Option 2 Delta: \", opt2b_delta)\n",
    "print(\"Option 3 Delta: \", opt3b_delta)\n",
    "\n",
    "strategyb_delta = 1 * opt1b_delta + 2 * opt2b_delta + 1 * opt3b_delta\n",
    "print(\"Strategy Delta \", strategyb_delta)"
   ]
  },
  {
   "cell_type": "code",
   "execution_count": 10,
   "metadata": {},
   "outputs": [
    {
     "name": "stdout",
     "output_type": "stream",
     "text": [
      "Option 1 Delta:  -0.368\n",
      "Option 2 Delta:  0.632\n",
      "Strategy Delta  0.264\n"
     ]
    }
   ],
   "source": [
    "#Strategy 3\n",
    "DAX_price = 109000\n",
    "DAX_sigma = 0.12\n",
    "interest_rate_c = 0.05\n",
    "\n",
    "opt1c_delta = black_scholes(DAX_price, 109000, 6/12, interest_rate_c, DAX_sigma,'Put')[1]\n",
    "opt2c_delta = black_scholes(DAX_price, 109000, 6/12, interest_rate_c, DAX_sigma,'Call')[1]\n",
    "\n",
    "\n",
    "print(\"Option 1 Delta: \", opt1c_delta)\n",
    "print(\"Option 2 Delta: \", opt2c_delta)\n",
    "\n",
    "strategyc_delta = 1 * opt1c_delta + 1 * opt2c_delta\n",
    "print(\"Strategy Delta \", strategyc_delta)"
   ]
  },
  {
   "cell_type": "markdown",
   "metadata": {},
   "source": [
    "### Question 3"
   ]
  },
  {
   "cell_type": "code",
   "execution_count": 11,
   "metadata": {},
   "outputs": [],
   "source": [
    "#Parameters\n",
    "interest = 0\n",
    "strike = 2000\n",
    "S_0 = 2000\n",
    "vol = 0.2"
   ]
  },
  {
   "cell_type": "code",
   "execution_count": 12,
   "metadata": {},
   "outputs": [],
   "source": [
    "def add_tree_layer(input_value):\n",
    "    #Accoring to the Cox Ross Rubinstein Model\n",
    "    \n",
    "    h = 1/6\n",
    "    \n",
    "    results = []\n",
    "    \n",
    "    #Up\n",
    "    [results.append(values * (np.exp(vol*np.sqrt(h)))) for values in input_value]\n",
    "    \n",
    "    #Down\n",
    "    [results.append(values * (np.exp(-vol*np.sqrt(h)))) for values in input_value]\n",
    "    \n",
    "    return list(np.unique(np.round(results,2)))"
   ]
  },
  {
   "cell_type": "code",
   "execution_count": 13,
   "metadata": {},
   "outputs": [],
   "source": [
    "tree_data = []\n",
    "#Period 0\n",
    "tree_data.append(S_0)\n",
    "#Period 1\n",
    "tree_data.append([S_0*(1 + vol), S_0 * (1 - vol)])\n",
    "\n",
    "for i in range(1,6):\n",
    "    tree_data.append(add_tree_layer(tree_data[i]))"
   ]
  },
  {
   "cell_type": "code",
   "execution_count": 14,
   "metadata": {},
   "outputs": [
    {
     "name": "stdout",
     "output_type": "stream",
     "text": [
      "[2400.0, 1600.0]\n",
      "[1474.55, 1736.12, 2211.83, 2604.18]\n",
      "[1358.94, 1600.0, 1883.82, 2038.41, 2400.0, 2825.73]\n",
      "[1252.39, 1474.55, 1736.12, 1878.59, 2044.09, 2211.83, 2604.18, 3066.13]\n",
      "[1154.2, 1358.94, 1600.0, 1731.3, 1883.82, 2038.41, 2217.99, 2400.0, 2825.73, 3326.98]\n"
     ]
    },
    {
     "data": {
      "text/plain": [
       "[None, None, None, None, None]"
      ]
     },
     "execution_count": 14,
     "metadata": {},
     "output_type": "execute_result"
    }
   ],
   "source": [
    "[print(tree_data[i]) for i in range(1,6)] "
   ]
  },
  {
   "cell_type": "code",
   "execution_count": null,
   "metadata": {},
   "outputs": [],
   "source": []
  },
  {
   "cell_type": "code",
   "execution_count": null,
   "metadata": {},
   "outputs": [],
   "source": []
  }
 ],
 "metadata": {
  "kernelspec": {
   "display_name": "Python 3",
   "language": "python",
   "name": "python3"
  },
  "language_info": {
   "codemirror_mode": {
    "name": "ipython",
    "version": 3
   },
   "file_extension": ".py",
   "mimetype": "text/x-python",
   "name": "python",
   "nbconvert_exporter": "python",
   "pygments_lexer": "ipython3",
   "version": "3.6.7"
  }
 },
 "nbformat": 4,
 "nbformat_minor": 2
}
