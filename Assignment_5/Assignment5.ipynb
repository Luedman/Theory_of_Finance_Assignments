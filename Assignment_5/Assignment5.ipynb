{
 "cells": [
  {
   "cell_type": "markdown",
   "metadata": {},
   "source": [
    "## Assignement 5"
   ]
  },
  {
   "cell_type": "code",
   "execution_count": 1,
   "metadata": {},
   "outputs": [],
   "source": [
    "#Import Libraries\n",
    "import numpy as np\n",
    "import scipy.stats as st"
   ]
  },
  {
   "cell_type": "markdown",
   "metadata": {},
   "source": [
    "### Question 1.1"
   ]
  },
  {
   "cell_type": "code",
   "execution_count": 2,
   "metadata": {},
   "outputs": [
    {
     "name": "stdout",
     "output_type": "stream",
     "text": [
      "The European Call has a price of  4.17\n"
     ]
    }
   ],
   "source": [
    "#Calculta Interest\n",
    "interest = (100-98)/100\n",
    "strike = 60\n",
    "\n",
    "#Calculate the exp. payoff of the call\n",
    "exp_payoff_call = 0.85*(65 - strike) + 0.15*(0)\n",
    "#Discount the exp. payoff to get the price\n",
    "price_call = round(exp_payoff_call/(1 + interest),2)\n",
    "\n",
    "print(\"The European Call has a price of \", price_call)"
   ]
  },
  {
   "cell_type": "markdown",
   "metadata": {},
   "source": [
    "### Question 1.2\n",
    "Yes you could replicate the call option with bonds and the underlying such that the payoff of the call and the portfolio are the same. Then you short this portfolio witch should have a value of 4.17 and buy the call which is trading at 2. Your expected payoff is zero but you make a riskless profit of 2.17."
   ]
  },
  {
   "cell_type": "markdown",
   "metadata": {},
   "source": [
    "### Question 1.3\n"
   ]
  },
  {
   "cell_type": "code",
   "execution_count": 3,
   "metadata": {},
   "outputs": [
    {
     "name": "stdout",
     "output_type": "stream",
     "text": [
      "The European Put has a value of  2.21\n"
     ]
    }
   ],
   "source": [
    "#Calculate the exp. payoff of the call\n",
    "exp_payoff_put = 0.85*(0) + 0.15*(strike - 45)\n",
    "#Discount the exp. payoff to get the price\n",
    "price_put = round(exp_payoff_put/(1 + interest),2)\n",
    "\n",
    "print(\"The European Put has a value of \", price_put)"
   ]
  },
  {
   "cell_type": "code",
   "execution_count": 4,
   "metadata": {},
   "outputs": [
    {
     "name": "stdout",
     "output_type": "stream",
     "text": [
      "58.82\n"
     ]
    }
   ],
   "source": [
    "#Present value of the strike\n",
    "pv_strike = round(strike/(1 + interest),2)\n",
    "print(pv_strike)"
   ]
  },
  {
   "cell_type": "code",
   "execution_count": 5,
   "metadata": {},
   "outputs": [
    {
     "data": {
      "text/plain": [
       "1.96"
      ]
     },
     "execution_count": 5,
     "metadata": {},
     "output_type": "execute_result"
    }
   ],
   "source": [
    "#Check Put Call Parity \n",
    "price_call - price_put"
   ]
  },
  {
   "cell_type": "code",
   "execution_count": 6,
   "metadata": {},
   "outputs": [
    {
     "data": {
      "text/plain": [
       "4.901960784313726"
      ]
     },
     "execution_count": 6,
     "metadata": {},
     "output_type": "execute_result"
    }
   ],
   "source": [
    "5/(1 + interest)"
   ]
  },
  {
   "cell_type": "markdown",
   "metadata": {},
   "source": [
    "### Question 2.1\n",
    "\n",
    "The red line describes a call option with strike K = 30 and maturity one year <br>\n",
    "The dark blue line describes a call option with strike K = 60 and maturity one year <br>\n",
    "The light blue line describes a call option with strike K = 60 and maturity 6 months year <br>\n",
    "\n",
    "The purple line describes a put option with strike K = 30 and maturity one year <br>\n",
    "The yellow line describes a put option with strike K = 60 and maturity one year <br>\n",
    "The grey blue line describes a put option with strike K = 60 and maturity 6 months year <br>\n",
    "\n",
    "\n",
    "The reason for that is that call options exhibit a delta between 0 and 1 (option price rises is the price of the underlying rises), whereas  put options have a delta bewteen 0 and -1 (option prices goes down as the underlying rises). \n",
    "As we approach maturity the probability of getting from out-of-the-money into in-of-the-money and vice versa gets lower. For that reason more of the in-of-the-money the money options tend to exhibit the same price movments as the underlying which leads to to a steeper slope of the delta curve. "
   ]
  },
  {
   "cell_type": "markdown",
   "metadata": {},
   "source": [
    "### Question 2"
   ]
  },
  {
   "cell_type": "code",
   "execution_count": 7,
   "metadata": {},
   "outputs": [],
   "source": [
    "def black_scholes(S, K, T, r, sigma, opt_type):\n",
    "    \n",
    "    #S: spot price\n",
    "    #K: strike price\n",
    "    #T: time to maturity\n",
    "    #r: interest rate\n",
    "    #sigma: volatility of underlying asset\n",
    "    #opt_type: type of option \n",
    "    \n",
    "    d1 = (np.log(S / K) + (r + 0.5 * sigma ** 2) * T) / (sigma * np.sqrt(T))\n",
    "    d2 = (np.log(S / K) + (r - 0.5 * sigma ** 2) * T) / (sigma * np.sqrt(T))\n",
    "    \n",
    "    call = (S * st.norm.cdf(d1, 0.0, 1.0) - K * np.exp(-r * T) * st.norm.cdf(d2, 0.0, 1.0))\n",
    "    put = (K * np.exp(-r * T) * st.norm.cdf(-d2, 0.0, 1.0) - S * st.norm.cdf(-d1, 0.0, 1.0))\n",
    "    \n",
    "    delta_call = st.norm.cdf(d1, 0.0, 1.0)\n",
    "    delta_put = -st.norm.cdf(-d1, 0.0, 1.0)\n",
    "    \n",
    "    if opt_type.upper() == 'CALL':\n",
    "        return np.round(call,4), np.round(delta_call,4)\n",
    "    \n",
    "    if opt_type.upper() == 'PUT':\n",
    "        return np.round(put,4), np.round(delta_put,4)\n"
   ]
  },
  {
   "cell_type": "markdown",
   "metadata": {},
   "source": [
    "### Question 2.2"
   ]
  },
  {
   "cell_type": "code",
   "execution_count": 8,
   "metadata": {},
   "outputs": [
    {
     "name": "stdout",
     "output_type": "stream",
     "text": [
      "Option 1 Delta:  0.54\n",
      "Option 2 Delta:  0.9354\n",
      "Option 3 Delta:  0.3498\n",
      "Strategy Delta  258.57\n"
     ]
    }
   ],
   "source": [
    "#Strategy 1\n",
    "sp500_price = 2740\n",
    "sp500_sigma = 0.18\n",
    "interest_rate_a = 0.02\n",
    "\n",
    "opt1a_delta = black_scholes(sp500_price, 2740, 3/12, interest_rate_a, sp500_sigma,'Call')[1]\n",
    "opt2a_delta = black_scholes(sp500_price, 2300, 6/12, interest_rate_a, sp500_sigma,'Call')[1]\n",
    "opt3a_delta = black_scholes(sp500_price, 2990, 9/12, interest_rate_a, sp500_sigma,'Call')[1]\n",
    "\n",
    "print(\"Option 1 Delta: \", opt1a_delta)\n",
    "print(\"Option 2 Delta: \", opt2a_delta)\n",
    "print(\"Option 3 Delta: \", opt3a_delta)\n",
    "\n",
    "strategya_delta = 100 * opt1a_delta + 200 * opt2a_delta + 50 * opt3a_delta\n",
    "print(\"Strategy Delta \", strategya_delta)"
   ]
  },
  {
   "cell_type": "code",
   "execution_count": 9,
   "metadata": {},
   "outputs": [
    {
     "name": "stdout",
     "output_type": "stream",
     "text": [
      "Option 1 Delta:  -0.5539\n",
      "Option 2 Delta:  0.6927\n",
      "Option 3 Delta:  -0.278\n",
      "Strategy Delta  0.5535\n"
     ]
    }
   ],
   "source": [
    "#Strategy 2\n",
    "SMI_price = 8900\n",
    "SMI_sigma = 0.18\n",
    "interest_rate_b = 0.02\n",
    "\n",
    "opt1b_delta = black_scholes(SMI_price, 8990, 1/12, interest_rate_b, SMI_sigma,'Put')[1]\n",
    "opt2b_delta = black_scholes(SMI_price, 8500, 6/12, interest_rate_b, SMI_sigma,'Call')[1]\n",
    "opt3b_delta = black_scholes(SMI_price, 8300, 12/12, interest_rate_b, SMI_sigma,'Put')[1]\n",
    "\n",
    "print(\"Option 1 Delta: \", opt1b_delta)\n",
    "print(\"Option 2 Delta: \", opt2b_delta)\n",
    "print(\"Option 3 Delta: \", opt3b_delta)\n",
    "\n",
    "strategyb_delta = 1 * opt1b_delta + 2 * opt2b_delta + 1 * opt3b_delta\n",
    "print(\"Strategy Delta \", strategyb_delta)"
   ]
  },
  {
   "cell_type": "code",
   "execution_count": 10,
   "metadata": {},
   "outputs": [
    {
     "name": "stdout",
     "output_type": "stream",
     "text": [
      "Option 1 Delta:  -0.368\n",
      "Option 2 Delta:  0.632\n",
      "Strategy Delta  0.264\n"
     ]
    }
   ],
   "source": [
    "#Strategy 3\n",
    "DAX_price = 109000\n",
    "DAX_sigma = 0.12\n",
    "interest_rate_c = 0.05\n",
    "\n",
    "opt1c_delta = black_scholes(DAX_price, 109000, 6/12, interest_rate_c, DAX_sigma,'Put')[1]\n",
    "opt2c_delta = black_scholes(DAX_price, 109000, 6/12, interest_rate_c, DAX_sigma,'Call')[1]\n",
    "\n",
    "\n",
    "print(\"Option 1 Delta: \", opt1c_delta)\n",
    "print(\"Option 2 Delta: \", opt2c_delta)\n",
    "\n",
    "strategyc_delta = 1 * opt1c_delta + 1 * opt2c_delta\n",
    "print(\"Strategy Delta \", strategyc_delta)"
   ]
  },
  {
   "cell_type": "markdown",
   "metadata": {},
   "source": [
    "### Question 3.1"
   ]
  },
  {
   "cell_type": "code",
   "execution_count": 11,
   "metadata": {},
   "outputs": [],
   "source": [
    "#Parameters\n",
    "interest = 0\n",
    "strike = 2000\n",
    "S_0 = 2000\n",
    "\n",
    "#Tree Parameters Accoring to the Cox Ross Rubinstein Model\n",
    "h = 1/6"
   ]
  },
  {
   "cell_type": "code",
   "execution_count": 12,
   "metadata": {},
   "outputs": [],
   "source": [
    "def create_tree_underlying(vol):\n",
    "    \n",
    "    u = np.exp(np.sqrt(vol*h))\n",
    "    d = 1/u\n",
    "\n",
    "    def add_tree_layer(input_layer):\n",
    "        results = []\n",
    "        \n",
    "        #Up\n",
    "        [results.append(values * u) for values in input_layer]\n",
    "\n",
    "        #Down\n",
    "        results.append(input_layer[0] * d)\n",
    "\n",
    "        return list(np.round(np.sort(results),2))\n",
    "    \n",
    "    tree_data = []\n",
    "    #Period 0\n",
    "    tree_data.append(S_0)\n",
    "    #Period 1\n",
    "    tree_data.append(np.round([S_0 * d, S_0 * u]))\n",
    "\n",
    "    #Periods 2 to 6\n",
    "    for i in range(1,6):\n",
    "        tree_data.append(add_tree_layer(tree_data[i]))\n",
    "        \n",
    "    [print(tree_data[i]) for i in range(0,7)] \n",
    "    \n",
    "    return tree_data"
   ]
  },
  {
   "cell_type": "code",
   "execution_count": 13,
   "metadata": {},
   "outputs": [
    {
     "name": "stdout",
     "output_type": "stream",
     "text": [
      "2000\n",
      "[1666. 2401.]\n",
      "[1387.98, 1999.71, 2881.93]\n",
      "[1156.36, 1666.0, 2400.26, 3459.19]\n",
      "[963.39, 1387.98, 1999.71, 2881.04, 4152.08]\n",
      "[802.62, 1156.36, 1666.0, 2400.26, 3458.12, 4983.75]\n",
      "[668.68, 963.39, 1387.98, 1999.71, 2881.04, 4150.79, 5982.01]\n"
     ]
    }
   ],
   "source": [
    "tree_data1 = create_tree_underlying(0.2)"
   ]
  },
  {
   "cell_type": "markdown",
   "metadata": {},
   "source": [
    "### Question 3.1"
   ]
  },
  {
   "cell_type": "code",
   "execution_count": 14,
   "metadata": {},
   "outputs": [],
   "source": [
    "def create_tree_derivative_pricing(vol, tree_data):\n",
    "    \n",
    "    u = np.exp(vol*np.sqrt(h))\n",
    "    d = 1/u\n",
    "     \n",
    "    #Risk Neutral Probabilities\n",
    "    q = np.round((np.exp(0) - d) / (u - d),4)\n",
    "    print(\"Risk Neutral Probability (Up): \", q)\n",
    "    \n",
    "    #Find Payoffs at the final node\n",
    "    payoff_layer = np.round(np.log(np.divide(strike,tree_data[-1])),4)\n",
    "    \n",
    "    #Backpropageagtion Algorithm\n",
    "    #Calculate the expected Values by with the risk neutral probabilities per layer\n",
    "    def add_tree_layer_future(input_layer):\n",
    "\n",
    "        results = []\n",
    "\n",
    "        [results.append(input_layer[i]*(1 - q) + input_layer[i+1] * q) for i in range(0,len(input_layer) - 1)]\n",
    "\n",
    "        return list(np.round(results,4))\n",
    "    \n",
    "    #Initilialize the value of the future tree\n",
    "    tree_data_future = []\n",
    "    #First Iteration\n",
    "    tree_data_future.append(add_tree_layer_future(payoff_layer))\n",
    "    #Subsequent Iterations\n",
    "    for i in range(0,5):\n",
    "        tree_data_future.append(add_tree_layer_future(tree_data_future[i]))\n",
    "        \n",
    "    [print(tree_data_future[i]) for i in range(0,len(tree_data_future))]\n",
    "    \n",
    "    print(\"Future Price is: \", tree_data_future[-1][0])\n",
    "    "
   ]
  },
  {
   "cell_type": "code",
   "execution_count": 15,
   "metadata": {},
   "outputs": [
    {
     "name": "stdout",
     "output_type": "stream",
     "text": [
      "Risk Neutral Probability (Up):  0.4796\n",
      "[0.9205, 0.5553, 0.1902, -0.175, -0.5401, -0.9054]\n",
      "[0.7454, 0.3802, 0.0151, -0.3501, -0.7153]\n",
      "[0.5703, 0.2051, -0.16, -0.5252]\n",
      "[0.3952, 0.03, -0.3351]\n",
      "[0.2201, -0.1451]\n",
      "[0.045]\n",
      "Future Price is:  0.045\n"
     ]
    }
   ],
   "source": [
    "create_tree_derivative_pricing(0.2, tree_data1)"
   ]
  },
  {
   "cell_type": "markdown",
   "metadata": {},
   "source": [
    "### Question 3.3.1"
   ]
  },
  {
   "cell_type": "code",
   "execution_count": 16,
   "metadata": {},
   "outputs": [
    {
     "name": "stdout",
     "output_type": "stream",
     "text": [
      "2000\n",
      "[1631. 2453.]\n",
      "[1329.85, 2000.34, 3008.48]\n",
      "[1084.31, 1631.0, 2453.32, 3689.75]\n",
      "[884.1, 1329.85, 2000.34, 3008.88, 4525.3]\n",
      "[720.86, 1084.3, 1631.0, 2453.32, 3690.24, 5550.06]\n",
      "[587.76, 884.1, 1329.84, 2000.34, 3008.88, 4525.9, 6806.87]\n"
     ]
    }
   ],
   "source": [
    "tree_data2 = create_tree_underlying(0.25)"
   ]
  },
  {
   "cell_type": "code",
   "execution_count": 17,
   "metadata": {},
   "outputs": [
    {
     "name": "stdout",
     "output_type": "stream",
     "text": [
      "Risk Neutral Probability (Up):  0.4745\n",
      "[1.0309, 0.6226, 0.2144, -0.1939, -0.6021, -1.0103]\n",
      "[0.8372, 0.4289, 0.0207, -0.3876, -0.7958]\n",
      "[0.6435, 0.2352, -0.173, -0.5813]\n",
      "[0.4498, 0.0415, -0.3667]\n",
      "[0.2561, -0.1522]\n",
      "[0.0624]\n",
      "Future Price is:  0.0624\n"
     ]
    }
   ],
   "source": [
    "create_tree_derivative_pricing(0.25, tree_data2)"
   ]
  },
  {
   "cell_type": "markdown",
   "metadata": {},
   "source": [
    "### Question 3.3.2"
   ]
  },
  {
   "cell_type": "code",
   "execution_count": 18,
   "metadata": {},
   "outputs": [
    {
     "name": "stdout",
     "output_type": "stream",
     "text": [
      "2000\n",
      "[1599. 2501.]\n",
      "[1278.61, 1999.68, 3127.7]\n",
      "[1022.41, 1599.0, 2500.76, 3911.44]\n",
      "[817.55, 1278.6, 1999.68, 3127.4, 4891.57]\n",
      "[653.74, 1022.41, 1598.99, 2500.76, 3911.06, 6117.3]\n",
      "[522.75, 817.55, 1278.6, 1999.66, 3127.4, 4891.09, 7650.17]\n"
     ]
    }
   ],
   "source": [
    "tree_data3 = create_tree_underlying(0.3)"
   ]
  },
  {
   "cell_type": "code",
   "execution_count": 19,
   "metadata": {},
   "outputs": [
    {
     "name": "stdout",
     "output_type": "stream",
     "text": [
      "Risk Neutral Probability (Up):  0.4694\n",
      "[1.1319, 0.6847, 0.2375, -0.2098, -0.657, -1.1043]\n",
      "[0.922, 0.4748, 0.0275, -0.4197, -0.867]\n",
      "[0.7121, 0.2648, -0.1824, -0.6297]\n",
      "[0.5021, 0.0549, -0.3924]\n",
      "[0.2922, -0.1551]\n",
      "[0.0822]\n",
      "Future Price is:  0.0822\n"
     ]
    }
   ],
   "source": [
    "create_tree_derivative_pricing(0.3, tree_data3)"
   ]
  },
  {
   "cell_type": "markdown",
   "metadata": {},
   "source": [
    "### Question 3.4\n",
    "The higher the volatility, the higher the price of the derivative. The reason for that is that the probability of ending up in the money and receiving a (high) payoff rises as the volatility increases. "
   ]
  }
 ],
 "metadata": {
  "kernelspec": {
   "display_name": "Python 3",
   "language": "python",
   "name": "python3"
  },
  "language_info": {
   "codemirror_mode": {
    "name": "ipython",
    "version": 3
   },
   "file_extension": ".py",
   "mimetype": "text/x-python",
   "name": "python",
   "nbconvert_exporter": "python",
   "pygments_lexer": "ipython3",
   "version": "3.6.7"
  }
 },
 "nbformat": 4,
 "nbformat_minor": 2
}
