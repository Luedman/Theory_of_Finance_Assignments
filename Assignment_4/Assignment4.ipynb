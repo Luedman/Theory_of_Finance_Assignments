{
 "cells": [
  {
   "cell_type": "markdown",
   "metadata": {},
   "source": [
    "## Theory of Finance - Assignment 4 Bonds\n",
    " <br>\n",
    "Max Tragl <br>\n",
    "Asse Reinhardus<br>\n",
    "Lukas Schreiner"
   ]
  },
  {
   "cell_type": "code",
   "execution_count": 1,
   "metadata": {},
   "outputs": [],
   "source": [
    "#Import Libraries\n",
    "import pandas as pd\n",
    "import numpy as np\n",
    "import scipy.optimize as optimize\n",
    "import matplotlib.pyplot as plt"
   ]
  },
  {
   "cell_type": "code",
   "execution_count": 2,
   "metadata": {},
   "outputs": [],
   "source": [
    "#Disable Warnings \n",
    "from warnings import filterwarnings\n",
    "filterwarnings('ignore')"
   ]
  },
  {
   "cell_type": "markdown",
   "metadata": {},
   "source": [
    "## Question 1.1"
   ]
  },
  {
   "cell_type": "code",
   "execution_count": 3,
   "metadata": {},
   "outputs": [
    {
     "name": "stdout",
     "output_type": "stream",
     "text": [
      "The price of the three-year-bond is:  102.91923886443188\n"
     ]
    }
   ],
   "source": [
    "#Face value (no face value mentioned in the task. We assume Face value = 100) and annual coupon rate\n",
    "face_value = 100\n",
    "coupon = 7\n",
    "\n",
    "#First year, second year and third year interest rates\n",
    "first_rate = 0.04\n",
    "second_rate = 0.05\n",
    "third_rate = 0.06\n",
    "\n",
    "#Value of Bond\n",
    "value_bond = (coupon/(1+first_rate)) + (coupon/((1+second_rate)**2)) + ((coupon + face_value)/((1+third_rate)**3))\n",
    "print(\"The price of the three-year-bond is: \", value_bond)"
   ]
  },
  {
   "cell_type": "markdown",
   "metadata": {},
   "source": [
    "## Question 1.2"
   ]
  },
  {
   "cell_type": "code",
   "execution_count": 4,
   "metadata": {},
   "outputs": [
    {
     "name": "stdout",
     "output_type": "stream",
     "text": [
      "Bond values are, respectively:  [115.23091479469716, 111.53553309059109, 107.76624375240291, 103.92156862745098, 100]\n"
     ]
    }
   ],
   "source": [
    "# Time horizon = 4 years, Face value = 100, coupon rate annually = 6%, YTM = 2%\n",
    "\n",
    "#parameters\n",
    "f = 100\n",
    "c = 100 * 0.06\n",
    "ytm = 0.02\n",
    "\n",
    "#Calculation of bond values dependent on time to maturity\n",
    "P_4 = c/((1+ytm)**1) + c/((1+ytm)**2) + c/((1+ytm)**3) + (c+f)/((1+ytm)**4)\n",
    "P_3 = c/((1+ytm)**1) + c/((1+ytm)**2) + (c+f)/((1+ytm)**3)\n",
    "P_2 = c/((1+ytm)**1) + (c+f)/((1+ytm)**2)\n",
    "P_1 = (c+f)/((1+ytm)**1)\n",
    "P_0 = f\n",
    "\n",
    "bond_values_list = [P_4, P_3, P_2, P_1, P_0]\n",
    "print(\"Bond values are, respectively: \", bond_values_list)"
   ]
  },
  {
   "cell_type": "code",
   "execution_count": 5,
   "metadata": {},
   "outputs": [
    {
     "data": {
      "image/png": "[encoded data removed]",
      "text/plain": [
       "<Figure size 432x288 with 1 Axes>"
      ]
     },
     "metadata": {},
     "output_type": "display_data"
    }
   ],
   "source": [
    "#Plot bond value dependent on time to maturity\n",
    "\n",
    "#X and Y data: Time (Strings) and Bond values (floats)\n",
    "time = [\"4 years\",\"3 years\",\" 2 years\",\"1 year\", \"0 years / Now\"]\n",
    "value = bond_values_list\n",
    "\n",
    "fig, ax = plt.subplots()\n",
    "ax.plot(time, value)\n",
    "\n",
    "\n",
    "ax.set(xlabel='Years to maturity', ylabel='Bond Value ($)',\n",
    "       title='Bond value dependent on Years to maturity')\n",
    "ax.grid()\n",
    "\n",
    "plt.show()"
   ]
  },
  {
   "cell_type": "markdown",
   "metadata": {},
   "source": [
    "## Question 1.3"
   ]
  },
  {
   "cell_type": "code",
   "execution_count": 6,
   "metadata": {},
   "outputs": [],
   "source": [
    "#No, this does not necessarily mean that the market anticipates a sharp decline in the price of the BMW share.\n",
    "#There are multiple reasons why the forward price is smaller than the current stock price.\n",
    "#One reason could be, that within the next year the stock pays a dividend, hence a couple of weeks, before I get the BMW share.\n",
    "#Naturally, I'd rather like the dividend to be paid shortly after I become the owner of the share.\n",
    "#Expected dividends for the life of the future will push your price down, as futures don't pay dividends, so they must\n",
    "#be cheaper than the underlying.\n",
    "#The difference in the given share and forward price may also reflect the difference between holding the share and not\n",
    "#beeing able to invest into a risk free asset and the convenience yield from holding a share. This can be said because we\n",
    "#assumed that the forward-spot parity holds. \n",
    "\n"
   ]
  },
  {
   "cell_type": "markdown",
   "metadata": {},
   "source": [
    "## Question 2"
   ]
  },
  {
   "cell_type": "code",
   "execution_count": 7,
   "metadata": {},
   "outputs": [
    {
     "data": {
      "text/html": [
       "<div>\n",
       "<style scoped>\n",
       "    .dataframe tbody tr th:only-of-type {\n",
       "        vertical-align: middle;\n",
       "    }\n",
       "\n",
       "    .dataframe tbody tr th {\n",
       "        vertical-align: top;\n",
       "    }\n",
       "\n",
       "    .dataframe thead th {\n",
       "        text-align: right;\n",
       "    }\n",
       "</style>\n",
       "<table border=\"1\" class=\"dataframe\">\n",
       "  <thead>\n",
       "    <tr style=\"text-align: right;\">\n",
       "      <th></th>\n",
       "      <th>Jan20-3.75%</th>\n",
       "      <th>Jan21-3.5%</th>\n",
       "      <th>Jan22-3.75%</th>\n",
       "      <th>Jan23-4.0%</th>\n",
       "    </tr>\n",
       "    <tr>\n",
       "      <th>Date</th>\n",
       "      <th></th>\n",
       "      <th></th>\n",
       "      <th></th>\n",
       "      <th></th>\n",
       "    </tr>\n",
       "  </thead>\n",
       "  <tbody>\n",
       "    <tr>\n",
       "      <th>2013-01-01</th>\n",
       "      <td>97.012</td>\n",
       "      <td>94.822</td>\n",
       "      <td>96.014</td>\n",
       "      <td>97.371</td>\n",
       "    </tr>\n",
       "    <tr>\n",
       "      <th>2013-01-02</th>\n",
       "      <td>97.910</td>\n",
       "      <td>95.712</td>\n",
       "      <td>96.940</td>\n",
       "      <td>98.325</td>\n",
       "    </tr>\n",
       "    <tr>\n",
       "      <th>2013-01-03</th>\n",
       "      <td>98.025</td>\n",
       "      <td>95.836</td>\n",
       "      <td>97.075</td>\n",
       "      <td>98.455</td>\n",
       "    </tr>\n",
       "    <tr>\n",
       "      <th>2013-01-04</th>\n",
       "      <td>98.433</td>\n",
       "      <td>96.265</td>\n",
       "      <td>97.559</td>\n",
       "      <td>98.924</td>\n",
       "    </tr>\n",
       "    <tr>\n",
       "      <th>2013-01-07</th>\n",
       "      <td>98.478</td>\n",
       "      <td>96.327</td>\n",
       "      <td>97.638</td>\n",
       "      <td>98.985</td>\n",
       "    </tr>\n",
       "  </tbody>\n",
       "</table>\n",
       "</div>"
      ],
      "text/plain": [
       "            Jan20-3.75%  Jan21-3.5%  Jan22-3.75%  Jan23-4.0%\n",
       "Date                                                        \n",
       "2013-01-01       97.012      94.822       96.014      97.371\n",
       "2013-01-02       97.910      95.712       96.940      98.325\n",
       "2013-01-03       98.025      95.836       97.075      98.455\n",
       "2013-01-04       98.433      96.265       97.559      98.924\n",
       "2013-01-07       98.478      96.327       97.638      98.985"
      ]
     },
     "execution_count": 7,
     "metadata": {},
     "output_type": "execute_result"
    }
   ],
   "source": [
    "#Import Data\n",
    "data = pd.read_excel('PS4_updated1911_2.xlsx', skiprows = list(range(0,8)), nrows = 1173).set_index('Maturity')\n",
    "data = data.drop(data.columns[4:], axis = 1)\n",
    "\n",
    "#Rename Columns and Index\n",
    "data.index.name = 'Date'\n",
    "data.columns = ['Jan20-3.75%', 'Jan21-3.5%', 'Jan22-3.75%', 'Jan23-4.0%']\n",
    "\n",
    "#Display Data\n",
    "data.head()"
   ]
  },
  {
   "cell_type": "code",
   "execution_count": 8,
   "metadata": {
    "scrolled": true
   },
   "outputs": [
    {
     "data": {
      "text/plain": [
       "<matplotlib.axes._subplots.AxesSubplot at 0x10155c43c8>"
      ]
     },
     "execution_count": 8,
     "metadata": {},
     "output_type": "execute_result"
    },
    {
     "data": {
      "image/png": "[encoded data removed]",
      "text/plain": [
       "<Figure size 432x288 with 1 Axes>"
      ]
     },
     "metadata": {},
     "output_type": "display_data"
    }
   ],
   "source": [
    "#Plot Data\n",
    "data.plot(y = data.columns[:4])"
   ]
  },
  {
   "cell_type": "markdown",
   "metadata": {},
   "source": [
    "## Question 2.1"
   ]
  },
  {
   "cell_type": "code",
   "execution_count": 9,
   "metadata": {},
   "outputs": [],
   "source": [
    "def timedelta(index_date):\n",
    "    #'index_date' has to be a Timestamp\n",
    "    \n",
    "    #Create a list with all the dates for coupon payments\n",
    "    coupon_dates = pd.to_datetime(['2012-01-30',\n",
    "                                   '2013-01-30', \n",
    "                                   '2014-01-30', \n",
    "                                   '2015-01-30', \n",
    "                                   '2016-01-30', \n",
    "                                   '2017-01-30',\n",
    "                                   '2018-01-30'])\n",
    "    \n",
    "    #Find all the dates in 'coupon_dates' that are smaller than the input 'index_date'\n",
    "    #'coupon_dates_larger_index' is a list of booleans\n",
    "    coupon_dates_smaller_index = [i < index_date for i in coupon_dates]\n",
    "    \n",
    "    #Calculate the time delta between the lastest(max) coupon date (that is smaller than 'index_date') and 'index_date'\n",
    "    timedelta = index_date - max(coupon_dates[coupon_dates_smaller_index])\n",
    "\n",
    "    return timedelta"
   ]
  },
  {
   "cell_type": "code",
   "execution_count": 10,
   "metadata": {},
   "outputs": [],
   "source": [
    "#Create a new colum\n",
    "data['TimeDelta'] = 0\n",
    "\n",
    "#Loop through the index and calculate all the timedeltas\n",
    "#Todo: Disable Warning\n",
    "for i in range(0,len(data.index)):\n",
    "    data['TimeDelta'][data.index[i]] = timedelta(data.index[i]).days"
   ]
  },
  {
   "cell_type": "code",
   "execution_count": 11,
   "metadata": {},
   "outputs": [
    {
     "data": {
      "text/plain": [
       "<matplotlib.axes._subplots.AxesSubplot at 0x10153937b8>"
      ]
     },
     "execution_count": 11,
     "metadata": {},
     "output_type": "execute_result"
    },
    {
     "data": {
      "image/png": "[encoded data removed]",
      "text/plain": [
       "<Figure size 432x288 with 1 Axes>"
      ]
     },
     "metadata": {},
     "output_type": "display_data"
    }
   ],
   "source": [
    "#Plot Time Delta\n",
    "data.plot(y = 'TimeDelta')"
   ]
  },
  {
   "cell_type": "code",
   "execution_count": 12,
   "metadata": {},
   "outputs": [
    {
     "data": {
      "text/html": [
       "<div>\n",
       "<style scoped>\n",
       "    .dataframe tbody tr th:only-of-type {\n",
       "        vertical-align: middle;\n",
       "    }\n",
       "\n",
       "    .dataframe tbody tr th {\n",
       "        vertical-align: top;\n",
       "    }\n",
       "\n",
       "    .dataframe thead th {\n",
       "        text-align: right;\n",
       "    }\n",
       "</style>\n",
       "<table border=\"1\" class=\"dataframe\">\n",
       "  <thead>\n",
       "    <tr style=\"text-align: right;\">\n",
       "      <th></th>\n",
       "      <th>Jan20-3.75%</th>\n",
       "      <th>Jan21-3.5%</th>\n",
       "      <th>Jan22-3.75%</th>\n",
       "      <th>Jan23-4.0%</th>\n",
       "      <th>TimeDelta</th>\n",
       "      <th>Jan20 incl. ACCI</th>\n",
       "      <th>Jan21 incl. ACCI</th>\n",
       "      <th>Jan22 incl. ACCI</th>\n",
       "      <th>Jan23 incl. ACCI</th>\n",
       "    </tr>\n",
       "    <tr>\n",
       "      <th>Date</th>\n",
       "      <th></th>\n",
       "      <th></th>\n",
       "      <th></th>\n",
       "      <th></th>\n",
       "      <th></th>\n",
       "      <th></th>\n",
       "      <th></th>\n",
       "      <th></th>\n",
       "      <th></th>\n",
       "    </tr>\n",
       "  </thead>\n",
       "  <tbody>\n",
       "    <tr>\n",
       "      <th>2013-01-01</th>\n",
       "      <td>97.012</td>\n",
       "      <td>94.822</td>\n",
       "      <td>96.014</td>\n",
       "      <td>97.371</td>\n",
       "      <td>337</td>\n",
       "      <td>97.047104</td>\n",
       "      <td>94.854764</td>\n",
       "      <td>96.049104</td>\n",
       "      <td>97.408444</td>\n",
       "    </tr>\n",
       "    <tr>\n",
       "      <th>2013-01-02</th>\n",
       "      <td>97.910</td>\n",
       "      <td>95.712</td>\n",
       "      <td>96.940</td>\n",
       "      <td>98.325</td>\n",
       "      <td>338</td>\n",
       "      <td>97.945208</td>\n",
       "      <td>95.744861</td>\n",
       "      <td>96.975208</td>\n",
       "      <td>98.362556</td>\n",
       "    </tr>\n",
       "    <tr>\n",
       "      <th>2013-01-03</th>\n",
       "      <td>98.025</td>\n",
       "      <td>95.836</td>\n",
       "      <td>97.075</td>\n",
       "      <td>98.455</td>\n",
       "      <td>339</td>\n",
       "      <td>98.060313</td>\n",
       "      <td>95.868958</td>\n",
       "      <td>97.110313</td>\n",
       "      <td>98.492667</td>\n",
       "    </tr>\n",
       "    <tr>\n",
       "      <th>2013-01-04</th>\n",
       "      <td>98.433</td>\n",
       "      <td>96.265</td>\n",
       "      <td>97.559</td>\n",
       "      <td>98.924</td>\n",
       "      <td>340</td>\n",
       "      <td>98.468417</td>\n",
       "      <td>96.298056</td>\n",
       "      <td>97.594417</td>\n",
       "      <td>98.961778</td>\n",
       "    </tr>\n",
       "    <tr>\n",
       "      <th>2013-01-07</th>\n",
       "      <td>98.478</td>\n",
       "      <td>96.327</td>\n",
       "      <td>97.638</td>\n",
       "      <td>98.985</td>\n",
       "      <td>343</td>\n",
       "      <td>98.513729</td>\n",
       "      <td>96.360347</td>\n",
       "      <td>97.673729</td>\n",
       "      <td>99.023111</td>\n",
       "    </tr>\n",
       "  </tbody>\n",
       "</table>\n",
       "</div>"
      ],
      "text/plain": [
       "            Jan20-3.75%  Jan21-3.5%  Jan22-3.75%  Jan23-4.0%  TimeDelta  \\\n",
       "Date                                                                      \n",
       "2013-01-01       97.012      94.822       96.014      97.371        337   \n",
       "2013-01-02       97.910      95.712       96.940      98.325        338   \n",
       "2013-01-03       98.025      95.836       97.075      98.455        339   \n",
       "2013-01-04       98.433      96.265       97.559      98.924        340   \n",
       "2013-01-07       98.478      96.327       97.638      98.985        343   \n",
       "\n",
       "            Jan20 incl. ACCI  Jan21 incl. ACCI  Jan22 incl. ACCI  \\\n",
       "Date                                                               \n",
       "2013-01-01         97.047104         94.854764         96.049104   \n",
       "2013-01-02         97.945208         95.744861         96.975208   \n",
       "2013-01-03         98.060313         95.868958         97.110313   \n",
       "2013-01-04         98.468417         96.298056         97.594417   \n",
       "2013-01-07         98.513729         96.360347         97.673729   \n",
       "\n",
       "            Jan23 incl. ACCI  \n",
       "Date                          \n",
       "2013-01-01         97.408444  \n",
       "2013-01-02         98.362556  \n",
       "2013-01-03         98.492667  \n",
       "2013-01-04         98.961778  \n",
       "2013-01-07         99.023111  "
      ]
     },
     "execution_count": 12,
     "metadata": {},
     "output_type": "execute_result"
    }
   ],
   "source": [
    "#Create a list of all coupon rates and maturities for all the bonds\n",
    "interest = [0.0375, 0.035, 0.0375, 0.04]\n",
    "maturity = [5.5, 6.5, 7.5, 8.5]\n",
    "\n",
    "#Calculate the accrued interest and add it to the bond price\n",
    "data['Jan20 incl. ACCI'] = (data['TimeDelta']/360)*interest[0] + data['Jan20-3.75%']\n",
    "data['Jan21 incl. ACCI'] = (data['TimeDelta']/360)*interest[1] + data['Jan21-3.5%']\n",
    "data['Jan22 incl. ACCI'] = (data['TimeDelta']/360)*interest[2] + data['Jan22-3.75%']\n",
    "data['Jan23 incl. ACCI'] = (data['TimeDelta']/360)*interest[3] + data['Jan23-4.0%']\n",
    "\n",
    "data.head()"
   ]
  },
  {
   "cell_type": "markdown",
   "metadata": {},
   "source": [
    "## Question 2.2\n",
    "\n",
    "The yield to maturity 'ytm' is defined as:\n",
    "\n",
    "$P = \\sum_{k=1}^{K}({c\\over(1 + ytm)^m}) + {1\\over(1 + ytm)^m} $\n",
    "<br>\n"
   ]
  },
  {
   "cell_type": "code",
   "execution_count": 13,
   "metadata": {},
   "outputs": [],
   "source": [
    "#This function calculates the yield to maturity for a bond with annual coupons\n",
    "def yield_to_maturity(price, par, periods_to_maturity, coupon):\n",
    "    #Variables:\n",
    "    #price : current price of the bond\n",
    "    #par : face value\n",
    "    #periods_maturity: how many years are left\n",
    "    #coupon: interest rate\n",
    "    \n",
    "    coupon  = coupon * par\n",
    "    \n",
    "    dt = [(i+1) for i in range(int(periods_to_maturity))]\n",
    "    \n",
    "    #Define the equation as a lambda function\n",
    "    yield_to_maturity = lambda ytm : sum([coupon/(1 + ytm)**t for t in dt]) \\\n",
    "                        + par/(1 + ytm)**periods_to_maturity - price\n",
    "    \n",
    "    #Find a solution for the equation above\n",
    "    ytm = optimize.newton(yield_to_maturity, 0.05)\n",
    "        \n",
    "    return ytm"
   ]
  },
  {
   "cell_type": "code",
   "execution_count": 14,
   "metadata": {},
   "outputs": [
    {
     "data": {
      "text/plain": [
       "Jan20-3.75%    105.849\n",
       "Jan21-3.5%     104.014\n",
       "Jan22-3.75%    104.840\n",
       "Jan23-4.0%     106.142\n",
       "Name: 2014-07-31 00:00:00, dtype: float64"
      ]
     },
     "execution_count": 14,
     "metadata": {},
     "output_type": "execute_result"
    }
   ],
   "source": [
    "#Display prices of the bonds\n",
    "data.loc[pd.to_datetime('2014-07-31')][:4]"
   ]
  },
  {
   "cell_type": "code",
   "execution_count": 15,
   "metadata": {},
   "outputs": [
    {
     "name": "stdout",
     "output_type": "stream",
     "text": [
      "The YTM for the Jan20-3.75% Bond is 2.28 %\n",
      "The YTM for the Jan21-3.50% Bond is 2.57 %\n",
      "The YTM for the Jan22-3.75% Bond is 2.8  %\n",
      "The YTM for the Jan23-4.00% Bond is 2.96 %\n"
     ]
    }
   ],
   "source": [
    "#Calculate the YTM for all bonds and store them in a list\n",
    "ytm = [yield_to_maturity(data.loc[pd.to_datetime('2014-07-31')][i],100,maturity[i], interest[i])\\\n",
    "       for i in [0,1,2,3]]\n",
    "\n",
    "print('The YTM for the Jan20-3.75% Bond is',round(ytm[0]*100,2),'%')\n",
    "print('The YTM for the Jan21-3.50% Bond is',round(ytm[1]*100,2),'%')\n",
    "print('The YTM for the Jan22-3.75% Bond is',round(ytm[2]*100,2),' %')\n",
    "print('The YTM for the Jan23-4.00% Bond is',round(ytm[3]*100,2),'%')"
   ]
  },
  {
   "cell_type": "markdown",
   "metadata": {},
   "source": [
    "Since all the bonds are noting above par value it is not surprising that the YTM is below the coupon payments. The fact, that the yield to maturity increases as the time to maturity increases also reflects common intrest rates structures with a rising yield curve. \n",
    "<br>\n",
    "<br>\n",
    "\n",
    "$D = {1\\over(1 + ytm)} \\sum_{k=1}^{K} m_{k}{cf_{k}\\over(1 + ytm)^{m_{k}}} $"
   ]
  },
  {
   "cell_type": "code",
   "execution_count": 16,
   "metadata": {},
   "outputs": [],
   "source": [
    "#Calculate Dollar Duration for bonds with annual payments\n",
    "def dollar_duration(ytm, par, periods_to_maturity, coupon):\n",
    "    \n",
    "    #Calculate the maturity to coupon payments\n",
    "    time_coupon_payments = np.array(range(0,int(periods_to_maturity+1)))\n",
    "    time_coupon_payments = np.add(time_coupon_payments,(periods_to_maturity - int(periods_to_maturity)))\n",
    "    \n",
    "    #Dollar duration like the formula above\n",
    "    dollar_duration = 1/(1 + ytm) * sum([mk * par * coupon/((1 + ytm)**mk) for mk in time_coupon_payments])\n",
    "    \n",
    "    return dollar_duration"
   ]
  },
  {
   "cell_type": "code",
   "execution_count": 17,
   "metadata": {},
   "outputs": [
    {
     "name": "stdout",
     "output_type": "stream",
     "text": [
      "The Dollar Duration for the Jan20-3.75% Bond is 60.3604\n",
      "The Dollar Duration for the Jan21-3.50% Bond is 74.3658\n",
      "The Dollar Duration for the Jan22-3.75% Bond is 100.9463\n",
      "The Dollar Duration for the Jan23-4.00% Bond is 132.3776\n"
     ]
    }
   ],
   "source": [
    "#Calculate the Dollar Durations with the diffrent specifications for the bonds\n",
    "dollar_durations = [dollar_duration(ytm[i], 100, maturity[i], interest[i]) for i in [0,1,2,3]]\n",
    "\n",
    "print('The Dollar Duration for the Jan20-3.75% Bond is',round(dollar_durations[0],4))\n",
    "print('The Dollar Duration for the Jan21-3.50% Bond is',round(dollar_durations[1],4))\n",
    "print('The Dollar Duration for the Jan22-3.75% Bond is',round(dollar_durations[2],4))\n",
    "print('The Dollar Duration for the Jan23-4.00% Bond is',round(dollar_durations[3],4))"
   ]
  },
  {
   "cell_type": "markdown",
   "metadata": {},
   "source": [
    "## Question 2.3"
   ]
  },
  {
   "cell_type": "code",
   "execution_count": 18,
   "metadata": {},
   "outputs": [
    {
     "data": {
      "text/html": [
       "<div>\n",
       "<style scoped>\n",
       "    .dataframe tbody tr th:only-of-type {\n",
       "        vertical-align: middle;\n",
       "    }\n",
       "\n",
       "    .dataframe tbody tr th {\n",
       "        vertical-align: top;\n",
       "    }\n",
       "\n",
       "    .dataframe thead th {\n",
       "        text-align: right;\n",
       "    }\n",
       "</style>\n",
       "<table border=\"1\" class=\"dataframe\">\n",
       "  <thead>\n",
       "    <tr style=\"text-align: right;\">\n",
       "      <th></th>\n",
       "      <th>Portfolio 1</th>\n",
       "      <th>Portfolio 2</th>\n",
       "    </tr>\n",
       "    <tr>\n",
       "      <th>Date</th>\n",
       "      <th></th>\n",
       "      <th></th>\n",
       "    </tr>\n",
       "  </thead>\n",
       "  <tbody>\n",
       "    <tr>\n",
       "      <th>2013-01-01</th>\n",
       "      <td>191.834</td>\n",
       "      <td>-386.770</td>\n",
       "    </tr>\n",
       "    <tr>\n",
       "      <th>2013-01-02</th>\n",
       "      <td>193.622</td>\n",
       "      <td>-390.530</td>\n",
       "    </tr>\n",
       "    <tr>\n",
       "      <th>2013-01-03</th>\n",
       "      <td>193.861</td>\n",
       "      <td>-391.060</td>\n",
       "    </tr>\n",
       "    <tr>\n",
       "      <th>2013-01-04</th>\n",
       "      <td>194.698</td>\n",
       "      <td>-392.966</td>\n",
       "    </tr>\n",
       "    <tr>\n",
       "      <th>2013-01-07</th>\n",
       "      <td>194.805</td>\n",
       "      <td>-393.246</td>\n",
       "    </tr>\n",
       "  </tbody>\n",
       "</table>\n",
       "</div>"
      ],
      "text/plain": [
       "            Portfolio 1  Portfolio 2\n",
       "Date                                \n",
       "2013-01-01      191.834     -386.770\n",
       "2013-01-02      193.622     -390.530\n",
       "2013-01-03      193.861     -391.060\n",
       "2013-01-04      194.698     -392.966\n",
       "2013-01-07      194.805     -393.246"
      ]
     },
     "execution_count": 18,
     "metadata": {},
     "output_type": "execute_result"
    }
   ],
   "source": [
    "#Create 2 new portfolios\n",
    "data['Portfolio 1'] = data['Jan20-3.75%'] + data['Jan21-3.5%']\n",
    "data['Portfolio 2'] = -2*data['Jan22-3.75%'] - 2*data['Jan23-4.0%']\n",
    "data[data.columns[9:]].head()"
   ]
  },
  {
   "cell_type": "code",
   "execution_count": 19,
   "metadata": {},
   "outputs": [
    {
     "name": "stdout",
     "output_type": "stream",
     "text": [
      "For each unit long on Portfolio 1, you have to short -0.4973 units of Portfolio 2\n",
      "The Net Exposure at that day is: 0.0\n"
     ]
    }
   ],
   "source": [
    "#ToDo Bond Duration Matching?\n",
    "\n",
    "#Calculate the hedge ratio by dividing prices\n",
    "hedge_ratio = data.loc[pd.to_datetime('2014-07-31')]['Portfolio 1'] / \\\n",
    "              data.loc[pd.to_datetime('2014-07-31')]['Portfolio 2']\n",
    "\n",
    "print('For each unit long on Portfolio 1, you have to short', \\\n",
    "      round(hedge_ratio, 4),'units of Portfolio 2')\n",
    "\n",
    "print('The Net Exposure at that day is:', \\\n",
    "      data.loc[pd.to_datetime('2014-07-31')]['Portfolio 1'] + \\\n",
    "      hedge_ratio *  data.loc[pd.to_datetime('2014-07-31')]['Portfolio 2']*(-1))"
   ]
  },
  {
   "cell_type": "markdown",
   "metadata": {},
   "source": [
    "## Question 3.1"
   ]
  },
  {
   "cell_type": "code",
   "execution_count": 20,
   "metadata": {},
   "outputs": [],
   "source": [
    "interest_rate = 0.1\n",
    "\n",
    "#Store bond charateristics in dict\n",
    "bond_a,bond_b = dict.fromkeys(['FV', 'CP', 'Mat']),dict.fromkeys(['FV', 'CP', 'Mat'])\n",
    "bond_a['FV'] = bond_b['FV'] = 100\n",
    "bond_a['CP'] = bond_b['CP'] = 15\n",
    "bond_a['Mat'],bond_b['Mat'] = 5, 15"
   ]
  },
  {
   "cell_type": "code",
   "execution_count": 21,
   "metadata": {},
   "outputs": [],
   "source": [
    "#Define Bond Valuation function\n",
    "def bond_price(FV, CP, Mat, YC):\n",
    "    #FV: Face Value in USD\n",
    "    #CP: Coupon payment in USD\n",
    "    #Mat: Maturity in Years\n",
    "    #YC: Yield Curve in per cent\n",
    "    \n",
    "    periods = range(1,Mat+1)\n",
    "    \n",
    "    bond_price = sum([CP/(1 + YC)**m_k for m_k in periods]) + FV/(1 + YC)**periods[-1]\n",
    "    \n",
    "    return round(bond_price,2)"
   ]
  },
  {
   "cell_type": "code",
   "execution_count": 22,
   "metadata": {},
   "outputs": [
    {
     "name": "stdout",
     "output_type": "stream",
     "text": [
      "Price A: 118.95\n",
      "Price B: 138.03\n"
     ]
    }
   ],
   "source": [
    "#Bond Price A\n",
    "print('Price A:', bond_price(bond_a['FV'],bond_a['CP'], bond_a['Mat'], interest_rate))\n",
    "\n",
    "#Bond Price B\n",
    "print('Price B:', bond_price(bond_b['FV'],bond_b['CP'], bond_b['Mat'], interest_rate))"
   ]
  },
  {
   "cell_type": "code",
   "execution_count": 23,
   "metadata": {},
   "outputs": [
    {
     "name": "stdout",
     "output_type": "stream",
     "text": [
      "PV Liability  620921.3231\n"
     ]
    }
   ],
   "source": [
    "future_liability = 1000000\n",
    "pv_future_liability = round(future_liability/(1 + interest_rate)**5,4)\n",
    "print('PV Liability ', pv_future_liability)"
   ]
  },
  {
   "cell_type": "code",
   "execution_count": 24,
   "metadata": {},
   "outputs": [
    {
     "name": "stdout",
     "output_type": "stream",
     "text": [
      "You need  5219.75  of Bond A\n"
     ]
    }
   ],
   "source": [
    "#Check Periods\n",
    "periods = range(0,5)\n",
    "value_of_coupons = round(sum([15*(1 + 0.1)**m_k for m_k in periods]),2)\n",
    "print('You need ',round(future_liability/(value_of_coupons + bond_a['FV']),2), ' of Bond A')"
   ]
  },
  {
   "cell_type": "code",
   "execution_count": null,
   "metadata": {},
   "outputs": [],
   "source": []
  },
  {
   "cell_type": "markdown",
   "metadata": {},
   "source": [
    "## Question 4.1"
   ]
  },
  {
   "cell_type": "code",
   "execution_count": 25,
   "metadata": {},
   "outputs": [],
   "source": [
    "#Define Function: Input: Fixed: 40-years horizon, Flexible: my, correlation, interest rate today\n",
    "def interest_forecast(my, p, r_today):\n",
    "    time_series = []\n",
    "    \n",
    "    for s in range(0,41):\n",
    "        r_next = (1-(p**s)) * my + ((p**s) * r_today)\n",
    "        time_series.append(r_next)\n",
    "    \n",
    "    return time_series\n",
    "\n",
    "\n",
    "#Produce time series\n",
    "\n",
    "# my = 5%, p = 0.90, short rate = 0.03\n",
    "time_series_11 = interest_forecast(0.05, 0.90, 0.03)\n",
    "\n",
    "# my = 5%, p = 0.90, short rate = 0.05\n",
    "time_series_12 = interest_forecast(0.05, 0.90, 0.05)\n",
    "\n",
    "# my = 5%, p = 0.90, short rate = 0.07\n",
    "time_series_13 = interest_forecast(0.05, 0.90, 0.07)\n",
    "\n",
    "# my = 5%, p = 0.99, short rate = 0.03\n",
    "time_series_21 = interest_forecast(0.05, 0.99, 0.03)\n",
    "\n",
    "# my = 5%, p = 0.99, short rate = 0.05\n",
    "time_series_22 = interest_forecast(0.05, 0.99, 0.05)\n",
    "\n",
    "# my = 5%, p = 0.99, short rate = 0.07\n",
    "time_series_23 = interest_forecast(0.05, 0.99, 0.07)"
   ]
  },
  {
   "cell_type": "code",
   "execution_count": 26,
   "metadata": {},
   "outputs": [
    {
     "data": {
      "image/png": "[encoded data removed]",
      "text/plain": [
       "<Figure size 432x288 with 1 Axes>"
      ]
     },
     "metadata": {},
     "output_type": "display_data"
    }
   ],
   "source": [
    "#Plot first 3 time series: p = 0.90\n",
    "plt.plot(list(range(0,41)), time_series_11, color='blue')\n",
    "plt.plot(list(range(0,41)), time_series_12, color='aqua')\n",
    "plt.plot(list(range(0,41)), time_series_13, color='aquamarine')\n",
    "\n",
    "plt.xlabel('Forecasting horizon (years)')\n",
    "plt.ylabel('short rate in t')\n",
    "plt.title('Expected future short rate, p = 0.90, Vasicek')\n",
    "plt.show()"
   ]
  },
  {
   "cell_type": "code",
   "execution_count": 27,
   "metadata": {},
   "outputs": [
    {
     "data": {
      "image/png": "[encoded data removed]",
      "text/plain": [
       "<Figure size 432x288 with 1 Axes>"
      ]
     },
     "metadata": {},
     "output_type": "display_data"
    }
   ],
   "source": [
    "#Plot last 3 time series: p = 0.99\n",
    "plt.plot(list(range(0,41)), time_series_21, color='orange')\n",
    "plt.plot(list(range(0,41)), time_series_22, color='red')\n",
    "plt.plot(list(range(0,41)), time_series_23, color='tomato')\n",
    "plt.xlabel('Forecasting horizon (years)')\n",
    "plt.ylabel('short rate in t')\n",
    "plt.title('Expected future short rate, p = 0.99, Vasicek')\n",
    "plt.show()"
   ]
  },
  {
   "cell_type": "markdown",
   "metadata": {},
   "source": [
    "## Question 4.2"
   ]
  },
  {
   "cell_type": "code",
   "execution_count": 28,
   "metadata": {},
   "outputs": [
    {
     "data": {
      "image/png": "[encoded data removed]",
      "text/plain": [
       "<Figure size 432x288 with 1 Axes>"
      ]
     },
     "metadata": {},
     "output_type": "display_data"
    }
   ],
   "source": [
    "# Re-run Problem 4.1), but set p = 1\n",
    "\n",
    "# my = 5%, p = 1, short rate = 0.03\n",
    "time_series_p1_1 = interest_forecast(0.05, 1, 0.03)\n",
    "\n",
    "# my = 5%, p = 1, short rate = 0.05\n",
    "time_series_p1_2 = interest_forecast(0.05, 1, 0.05)\n",
    "\n",
    "# my = 5%, p = 1, short rate = 0.07\n",
    "time_series_p1_3 = interest_forecast(0.05, 1, 0.07)\n",
    "\n",
    "\n",
    "#Plot time series: All three lines should stay flat, since p = 1. There is no convergence to my = 0.05\n",
    "plt.plot(list(range(0,41)), time_series_p1_1, color='green')\n",
    "plt.plot(list(range(0,41)), time_series_p1_2, color='lime')\n",
    "plt.plot(list(range(0,41)), time_series_p1_3, color='darkgreen')\n",
    "\n",
    "plt.xlabel('Forecasting horizon (years)')\n",
    "plt.ylabel('short rate in t')\n",
    "plt.title('Expected future short rate, p = 1, Vasicek')\n",
    "plt.show()\n",
    "    \n",
    "\n",
    "#Qualitative Answer to 4.2):\n",
    "#The main factor that influences the convergence of short interest rates in the given Vasicek model is the correlation\n",
    "#coefficient p. We assume neither a specific risk premia nor a specific error term. Hence, as said, the convergence\n",
    "#process is only dependent on p and, naturally, the starting point, in this case the initial short rates\n",
    "#of 3%, 5% and 7%, respectively. In other words, the further away the given short rate is from my, the longer it takes until r\n",
    "#converges to my. The lower the correlation coefficient p, the less the interest rate in period t+1 is dependent on the intest rate in t.\n",
    "#In other words, the lower p, the more noise we allow and the faster the short rate my deviate from its initial level. If p = 1,\n",
    "#we do not allow for any noise and the level of r in t+1 is fully predicted by the level of r in t. Hence, if p = 1 there is no\n",
    "#convergence at all. A lower p, however, favours an even faster convgernce. The speed of convergence is thus dependent on p.\n",
    "#The lower p, the faster, the higher p, the lower r converges to my. After 40 periods, the short rates are close to 5% with\n",
    "#p = 0.90. In the model with p = 0.99, they are not even close to 5% after 40 periods. The closer r converges to my,\n",
    "#the smoother the convergence process becomes. In the beginning there is a difference of 2% points(7%-5% and 5%-3%).\n",
    "#In the model with p=0.90, the change in r in the first 20 periods is much higher than the change in the next (last) 20 periods.\n",
    "#Obviously, in the given model the interest rate cannot fall below (move above) my, when coming from a higher (lower) initial\n",
    "#interest rate. As given in the lecture notes, for values of p lower than p = 1, he short rate process is mean-reverting , that\n",
    "#the expected future short rates are closer to the mean than the current short rate."
   ]
  },
  {
   "cell_type": "markdown",
   "metadata": {},
   "source": [
    "## Question 4.3"
   ]
  },
  {
   "cell_type": "code",
   "execution_count": 29,
   "metadata": {},
   "outputs": [],
   "source": [
    "#Calculate b_n values for each n in a range of 120 time periods. Indicate p (correlation) value\n",
    "def b_values(p):\n",
    "    \n",
    "    #Store all b_n values in this time series\n",
    "    b_n_values = []\n",
    "    \n",
    "    #Calculate b_n values for each of the 120 times periods <===== 120 instead of 40 periods\n",
    "    for n in range(1,41):\n",
    "        b_n = (1-(p**n))/((1-p)*n)\n",
    "        b_n_values.append(b_n)\n",
    "    \n",
    "    return b_n_values\n",
    "\n",
    "#Call function b_values. Do not set b_090 and b_099 equal the generated time series. Generate time series for p = 0.90 & p = 0.99\n",
    "b_090 = b_values(0.90)\n",
    "b_099 = b_values(0.99)"
   ]
  },
  {
   "cell_type": "code",
   "execution_count": 30,
   "metadata": {},
   "outputs": [
    {
     "data": {
      "image/png": "[encoded data removed]",
      "text/plain": [
       "<Figure size 432x288 with 1 Axes>"
      ]
     },
     "metadata": {},
     "output_type": "display_data"
    }
   ],
   "source": [
    "#Plot graphs\n",
    "plt.plot(list(range (1,41)), b_090, color='black')\n",
    "plt.plot(list(range (1,41)), b_099, color='red')\n",
    "\n",
    "plt.xlabel('Maturity (months)')\n",
    "plt.ylabel('Slope dependent on maturity')\n",
    "plt.title('Slope b(n), Black line: p = 0.90, Red line: p = 0.99')\n",
    "plt.show()\n"
   ]
  },
  {
   "cell_type": "code",
   "execution_count": 31,
   "metadata": {},
   "outputs": [],
   "source": [
    "#Calculate a_n values for each n in a range of 120 time periods. Indicate p (correlation) value\n",
    "\n",
    "#Indicate my & and p (correlation)\n",
    "def a_values(my, p):\n",
    "    \n",
    "    #Store all a_n values in this time series\n",
    "    a_n_values = []\n",
    "    \n",
    "    #Calculate a_n values for each of the 120 times periods <===== 120 instead of 40 periods\n",
    "    for n in range(1,41):\n",
    "        b_n = (1-(p**n))/((1-p)*n)\n",
    "        a_n = my * (1-b_n)\n",
    "        a_n_values.append(a_n)\n",
    "    \n",
    "    return a_n_values\n",
    "\n",
    "#Call function a_values. Do not set a_090 and a_099 equal the generated time series. Generate time series for p = 0.90 & p = 0.99\n",
    "a_090 = a_values(0.05, 0.90)\n",
    "a_099 = a_values(0.05, 0.99)"
   ]
  },
  {
   "cell_type": "code",
   "execution_count": 32,
   "metadata": {},
   "outputs": [
    {
     "data": {
      "image/png": "[encoded data removed]",
      "text/plain": [
       "<Figure size 432x288 with 1 Axes>"
      ]
     },
     "metadata": {},
     "output_type": "display_data"
    }
   ],
   "source": [
    "#Plot graphs\n",
    "plt.plot(list(range (1,41)), a_090, color='black')\n",
    "plt.plot(list(range (1,41)), a_099, color='red')\n",
    "\n",
    "plt.xlabel('Maturity (months)')\n",
    "plt.ylabel('Intercept dependent on maturity')\n",
    "plt.title('Intercept a(n), Black line: p = 0.90, Red line: p = 0.99')\n",
    "plt.show()"
   ]
  },
  {
   "cell_type": "code",
   "execution_count": null,
   "metadata": {},
   "outputs": [],
   "source": []
  },
  {
   "cell_type": "code",
   "execution_count": null,
   "metadata": {},
   "outputs": [],
   "source": []
  },
  {
   "cell_type": "code",
   "execution_count": null,
   "metadata": {},
   "outputs": [],
   "source": []
  }
 ],
 "metadata": {
  "kernelspec": {
   "display_name": "Python 3",
   "language": "python",
   "name": "python3"
  },
  "language_info": {
   "codemirror_mode": {
    "name": "ipython",
    "version": 3
   },
   "file_extension": ".py",
   "mimetype": "text/x-python",
   "name": "python",
   "nbconvert_exporter": "python",
   "pygments_lexer": "ipython3",
   "version": "3.6.5"
  }
 },
 "nbformat": 4,
 "nbformat_minor": 2
}
