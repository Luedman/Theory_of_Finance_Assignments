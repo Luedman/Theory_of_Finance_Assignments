{
 "cells": [
  {
   "cell_type": "markdown",
   "metadata": {},
   "source": [
    "# Assignment 2"
   ]
  },
  {
   "cell_type": "code",
   "execution_count": null,
   "metadata": {},
   "outputs": [],
   "source": [
    "#Import Libraries\n",
    "import numpy as np\n",
    "import pandas as pd\n",
    "import matplotlib.pyplot as plt\n",
    "from scipy.optimize import minimize\n",
    "from scipy.stats import norm\n",
    "from math import pi\n",
    "%matplotlib inline"
   ]
  },
  {
   "cell_type": "markdown",
   "metadata": {},
   "source": [
    "### Load Dataset"
   ]
  },
  {
   "cell_type": "code",
   "execution_count": null,
   "metadata": {},
   "outputs": [],
   "source": [
    "#Import Data\n",
    "stock_data = pd.read_excel('PS1-2_Studynet.xlsx')\n",
    "\n",
    "#Clean Header\n",
    "stock_data.columns = stock_data.columns.str.replace(\"Equity\", \"\")\n",
    "stock_data.columns = stock_data.columns.str.replace(\"SE\", \"\")\n",
    "stock_data.columns = stock_data.columns.str.replace(\"SW\", \"\")\n",
    "stock_data.columns = stock_data.columns.str.replace(\" \", \"\")\n",
    "stock_data = stock_data.set_index('Date')\n",
    "stock_data = stock_data.loc['2010-01-01':'2017-12-29']\n",
    "\n",
    "stock_data['LISN'] = stock_data.LISN / stock_data.LISN.shift(1) - 1\n",
    "stock_data['BAER'] = stock_data.BAER / stock_data.BAER.shift(1) - 1\n",
    "stock_data.head()\n",
    "\n",
    "#print(type(stock_data.index))"
   ]
  },
  {
   "cell_type": "markdown",
   "metadata": {},
   "source": [
    "### Excercise 1.1"
   ]
  },
  {
   "cell_type": "code",
   "execution_count": null,
   "metadata": {},
   "outputs": [],
   "source": [
    "def emp_mad(data):\n",
    "    return np.mean(np.absolute(data - np.mean(data)))\n",
    "\n",
    "def norm_mad(data):\n",
    "    return np.sqrt(2/pi)*np.std(data)\n",
    "\n",
    "def semidev(data):\n",
    "    return np.sqrt(np.mean(np.power(np.minimum(data,np.mean(data)),2)))\n",
    "\n",
    "def exp_shortfall(alpha,data):\n",
    "    #condiational variance, expected shortfall\n",
    "    \n",
    "    mu = np.mean(data)\n",
    "    sigma = np.std(data)\n",
    "    \n",
    "    return (1 - alpha)** -1 * norm.pdf(norm.ppf(alpha))*sigma - mu"
   ]
  },
  {
   "cell_type": "markdown",
   "metadata": {},
   "source": [
    "### Excersise 1.2"
   ]
  },
  {
   "cell_type": "code",
   "execution_count": null,
   "metadata": {},
   "outputs": [],
   "source": [
    "def emp_expshort(data, alpha):\n",
    "    \n",
    "    def delta(ret, vara):\n",
    "        if ret < (vara*-1):\n",
    "            return 1\n",
    "        else:\n",
    "            return 0\n",
    "    \n",
    "    def varalpha(data, alpha):\n",
    "        return - (np.mean(data) - norm.ppf(alpha)*np.std(data))\n",
    "    \n",
    "    vara = varalpha(data, alpha)\n",
    "    \n",
    "    sum_delta = []\n",
    "    \n",
    "    for i in range(0,len(data)):\n",
    "        sum_delta.append(delta(data[i], vara))\n",
    "\n",
    "    ES = (-1/np.sum(sum_delta))*np.sum(sum_delta * data)\n",
    "    \n",
    "    return ES \n",
    "\n",
    "print(emp_expshort(stock_data['LISN'], 0.01))\n",
    "print(emp_expshort(stock_data['LISN'], 0.05))"
   ]
  },
  {
   "cell_type": "code",
   "execution_count": null,
   "metadata": {},
   "outputs": [],
   "source": [
    "output = {'LISN':   [round(np.std(stock_data['LISN']),6), \n",
    "                         emp_mad(stock_data['LISN']),\n",
    "                         norm_mad(stock_data['LISN']),\n",
    "                         semidev(stock_data['LISN']), \n",
    "                         exp_shortfall(0.05,stock_data['LISN']), \n",
    "                         exp_shortfall(0.01,stock_data['LISN']), \n",
    "                         emp_expshort(stock_data['LISN'], 0.05),\n",
    "                         emp_expshort(stock_data['LISN'], 0.01)], \n",
    "          \n",
    "          'BAER':   [round(np.std(stock_data['BAER']),6), \n",
    "                         emp_mad(stock_data['BAER']),\n",
    "                         norm_mad(stock_data['BAER']),\n",
    "                         semidev(stock_data['BAER']), \n",
    "                         exp_shortfall(0.05,stock_data['BAER']), \n",
    "                         exp_shortfall(0.01,stock_data['BAER']),\n",
    "                         emp_expshort(stock_data['BAER'], 0.05),\n",
    "                         emp_expshort(stock_data['BAER'], 0.01)]}\n",
    "\n",
    "ouput_table = pd.DataFrame(data = output, index = ['Std', 'EmpMad','NormMad','Semi Dev', \n",
    "                                                   'Exp. Shortfall 95%',\n",
    "                                                   'Exp. Shortfall 99%', \n",
    "                                                   'Empirical ES 95%',\n",
    "                                                   'Empirical ES 99%',])\n",
    "ouput_table"
   ]
  },
  {
   "cell_type": "markdown",
   "metadata": {},
   "source": [
    "### Excersice 1.3"
   ]
  },
  {
   "cell_type": "code",
   "execution_count": null,
   "metadata": {},
   "outputs": [],
   "source": [
    "initial_amount = 10000000\n",
    "\n",
    "def invested_amount_std(data, initial_amount, period = 4):\n",
    "    \n",
    "    value_position = [initial_amount]\n",
    "    \n",
    "    for i in range(1,len(data)):\n",
    "        \n",
    "        value_position.append((1 + data[i]) * value_position[i-1])\n",
    "        \n",
    "    return np.round(np.std(value_position[0:4]),4)\n",
    "    \n",
    "print(invested_amount_std(stock_data['LISN'], initial_amount))\n",
    "print(invested_amount_std(stock_data['BAER'], initial_amount))"
   ]
  },
  {
   "cell_type": "markdown",
   "metadata": {},
   "source": [
    "### Excersise 1.4"
   ]
  },
  {
   "cell_type": "code",
   "execution_count": null,
   "metadata": {},
   "outputs": [],
   "source": [
    "returns_sorted = stock_data.sort_values('LISN')['LISN']\n",
    "sdt_norm = pd.DataFrame(np.random.normal(np.mean(stock_data['LISN']),np.std(stock_data['LISN']),size = len(stock_data['LISN'])))\n",
    "sdt_norm = sdt_norm.sort_values(0)\n",
    "\n",
    "\n",
    "plt.plot(sdt_norm, returns_sorted, color = 'grey', label = 'QQ', marker ='o')\n",
    "\n",
    "plt.xlabel('Normal Distribution')\n",
    "plt.ylabel('Empirical Returns')\n",
    "\n",
    "plt.show()"
   ]
  },
  {
   "cell_type": "code",
   "execution_count": null,
   "metadata": {
    "scrolled": true
   },
   "outputs": [],
   "source": [
    "plt.hist(stock_data['LISN'][1:], 50 ,density = True, facecolor='g', alpha=0.75)\n",
    "p = np.random.normal(np.mean(stock_data['LISN']),np.std(stock_data['LISN']),size = len(stock_data['LISN']))\n",
    "\n",
    "plt.show()"
   ]
  },
  {
   "cell_type": "markdown",
   "metadata": {},
   "source": [
    "### Excersise 2"
   ]
  },
  {
   "cell_type": "code",
   "execution_count": null,
   "metadata": {},
   "outputs": [],
   "source": [
    "stock_data2 = pd.read_excel('PS2-2.xlsx')\n",
    "stock_data2 = stock_data2.set_index('Date')\n",
    "\n",
    "cols = ['WMT (Walmart)', \n",
    "        'AAPL (Apple)', \n",
    "        'DIS (The Walt Disney Company)', \n",
    "        'IBM (International Business Machines Corporation)', \n",
    "        'JNJ (Johnson & Johnson)',\n",
    "        'KO (The Coca-Cola Company)',\n",
    "        'NKE (NIKE, Inc.)',\n",
    "        'TXN (Texas Instruments Incorporated)']\n",
    "\n",
    "for i in range(0,len(cols)):\n",
    "    stock_data2['Return ' + cols[i]] = stock_data2[cols[i]]/stock_data2[cols[i]].shift(1) - 1\n",
    "\n",
    "cols = stock_data2.columns\n",
    "\n",
    "#Drop fist row with Nan Returns\n",
    "stock_data2 = stock_data2.drop(stock_data2.index[0])\n",
    "#stock_data2[stock_data2.name != 'nan']\n",
    "\n",
    "stock_data2.head()"
   ]
  },
  {
   "cell_type": "markdown",
   "metadata": {},
   "source": [
    "### Excersise 2.1"
   ]
  },
  {
   "cell_type": "code",
   "execution_count": null,
   "metadata": {},
   "outputs": [],
   "source": [
    "def varalpha(data, alpha):\n",
    "    return - (np.mean(data) - norm.ppf(alpha) * np.std(data))"
   ]
  },
  {
   "cell_type": "code",
   "execution_count": null,
   "metadata": {},
   "outputs": [],
   "source": [
    "output2 = {cols[8]:   [varalpha(stock_data2[cols[8]], 0.05),  varalpha(stock_data2[cols[8]], 0.01),  emp_expshort(stock_data2[cols[8]], 0.05),  emp_expshort(stock_data2[cols[8]], 0.01)],  \n",
    "           cols[9]:   [varalpha(stock_data2[cols[9]], 0.05),  varalpha(stock_data2[cols[9]], 0.01),  emp_expshort(stock_data2[cols[9]], 0.05),  emp_expshort(stock_data2[cols[9]], 0.01)], \n",
    "           cols[10]:  [varalpha(stock_data2[cols[10]], 0.05), varalpha(stock_data2[cols[10]], 0.01), emp_expshort(stock_data2[cols[10]], 0.05), emp_expshort(stock_data2[cols[10]], 0.01)], \n",
    "           cols[11]:  [varalpha(stock_data2[cols[11]], 0.05), varalpha(stock_data2[cols[11]], 0.01), emp_expshort(stock_data2[cols[11]], 0.05), emp_expshort(stock_data2[cols[11]], 0.01)], \n",
    "           cols[12]:  [varalpha(stock_data2[cols[12]], 0.05), varalpha(stock_data2[cols[12]], 0.01), emp_expshort(stock_data2[cols[12]], 0.05), emp_expshort(stock_data2[cols[12]], 0.01)], \n",
    "           cols[13]:  [varalpha(stock_data2[cols[13]], 0.05), varalpha(stock_data2[cols[13]], 0.01), emp_expshort(stock_data2[cols[13]], 0.05), emp_expshort(stock_data2[cols[13]], 0.01)], \n",
    "           cols[14]:  [varalpha(stock_data2[cols[14]], 0.05), varalpha(stock_data2[cols[14]], 0.01), emp_expshort(stock_data2[cols[14]], 0.05), emp_expshort(stock_data2[cols[14]], 0.01)],\n",
    "           cols[15]:  [varalpha(stock_data2[cols[15]], 0.05), varalpha(stock_data2[cols[15]], 0.01), emp_expshort(stock_data2[cols[15]], 0.05), emp_expshort(stock_data2[cols[15]], 0.01)], \n",
    "          }\n",
    "\n",
    "ouput_table2 = pd.DataFrame(data = output2, index = ['95% Var', '99% Var', 'Emp Var 95%', 'Emp Var 99%'])\n",
    "ouput_table2"
   ]
  },
  {
   "cell_type": "markdown",
   "metadata": {},
   "source": [
    "### Excersise 2.2"
   ]
  },
  {
   "cell_type": "code",
   "execution_count": null,
   "metadata": {},
   "outputs": [],
   "source": [
    "xls = pd.ExcelFile('PS2-2.xlsx')\n",
    "apple_data = pd.read_excel(xls, 'AAPL')\n",
    "apple_data = apple_data.set_index('Date')\n",
    "apple_data['Return AAPL (Apple)'] = apple_data['AAPL Adj Close']/apple_data['AAPL Adj Close'].shift(1) - 1\n",
    "\n",
    "apple_returns = list(stock_data2['Return AAPL (Apple)'])\n",
    "apple_data2 = list(apple_data['Return AAPL (Apple)'])\n",
    "apple_data2[0] = 0.010326\n",
    "\n",
    "apple_series = apple_returns + apple_data2"
   ]
  },
  {
   "cell_type": "code",
   "execution_count": null,
   "metadata": {},
   "outputs": [],
   "source": [
    "#print(varalpha(stock_data2[cols[9]], 0.05))\n",
    "rolling_var = []\n",
    "for i in range(0,20):\n",
    "    \n",
    "    rolling_var.append(varalpha(apple_series[0+i:756+i], 0.05))\n",
    "\n",
    "var_exceeded = [0]*20\n",
    "for i in range(0,19):\n",
    "    \n",
    "    if rolling_var[i] > apple_series[756+i]:\n",
    "        var_exceeded[i] = 1\n",
    "\n",
    "print(var_exceeded)        "
   ]
  },
  {
   "cell_type": "code",
   "execution_count": null,
   "metadata": {},
   "outputs": [],
   "source": [
    "print(np.round(rolling_var,4))"
   ]
  },
  {
   "cell_type": "code",
   "execution_count": null,
   "metadata": {
    "scrolled": true
   },
   "outputs": [],
   "source": [
    "print(np.round(apple_data[756:],4))"
   ]
  },
  {
   "cell_type": "markdown",
   "metadata": {},
   "source": [
    "### Excersise 2.3"
   ]
  },
  {
   "cell_type": "code",
   "execution_count": null,
   "metadata": {},
   "outputs": [],
   "source": [
    "def portfolio_ret(w, expected_returns):\n",
    "    return np.round(np.sum(expected_returns * w),6)\n",
    "\n",
    "def portfolio_vol(w, cov_mat):\n",
    "    return np.dot(np.dot(w.T,cov_mat), w)"
   ]
  },
  {
   "cell_type": "code",
   "execution_count": null,
   "metadata": {},
   "outputs": [],
   "source": [
    "portfolio_weights = np.divide([55000, 15000, 23400, 43200, 131000, 321000, 104000, 38700],\n",
    "                              np.sum([55000, 15000, 23400, 43200, 131000, 321000, 104000, 38700]))\n",
    "\n",
    "assets_mean = np.mean(stock_data2[cols[8:]])\n",
    "\n",
    "cov_mat = np.round(np.cov(stock_data2.iloc[:,8:].values.T[:]),6)\n",
    "\n",
    "portfolio_return = portfolio_ret(portfolio_weights, assets_mean)\n",
    "\n",
    "portfolio_std = np.sqrt(portfolio_vol(portfolio_weights, cov_mat))\n",
    "\n",
    "print(portfolio_return)\n",
    "print(portfolio_std)"
   ]
  },
  {
   "cell_type": "code",
   "execution_count": null,
   "metadata": {},
   "outputs": [],
   "source": [
    "portfolio_value_at_risk =  - portfolio_return + norm.ppf(1-0.05)*portfolio_std\n",
    "print(portfolio_value_at_risk)"
   ]
  },
  {
   "cell_type": "markdown",
   "metadata": {},
   "source": [
    "### Excercise 2.4"
   ]
  },
  {
   "cell_type": "code",
   "execution_count": null,
   "metadata": {},
   "outputs": [],
   "source": [
    "def portfolio_return_series(assets, weights):\n",
    "    #assets is return series \n",
    "    p_retseries = []\n",
    "    \n",
    "    for i in range(0,len(assets.iloc[:,8:].values)):\n",
    "        p_retseries.append(np.sum((assets.iloc[:,8:].values[i] * portfolio_weights)[0]))\n",
    "    \n",
    "    return p_retseries\n",
    "\n",
    "p_retseries = portfolio_return_series(stock_data2, portfolio_weights)"
   ]
  },
  {
   "cell_type": "code",
   "execution_count": null,
   "metadata": {},
   "outputs": [],
   "source": [
    "def marginal_port_val(alpha, data):\n",
    "    \n",
    "    z = norm.ppf(1-alpha)\n",
    "    \n",
    "    sigma_ip = np.cov(data, p_retseries)[0][1]\n",
    "    \n",
    "    sigma_P = portfolio_std\n",
    "    \n",
    "    marginal_var = (sigma_ip/sigma_P) * z\n",
    "    \n",
    "    return marginal_var\n"
   ]
  },
  {
   "cell_type": "code",
   "execution_count": null,
   "metadata": {},
   "outputs": [],
   "source": [
    "for i in range(8,15):\n",
    "    \n",
    "    print(cols[i])\n",
    "    print(marginal_port_val(0.05, stock_data2[cols[i]]))\n",
    "    \n",
    "    marginal_var = []\n",
    "    marginal_var.append(marginal_port_val(0.05, stock_data2[cols[i]]))"
   ]
  },
  {
   "cell_type": "markdown",
   "metadata": {},
   "source": [
    "###  Excercise 2.5"
   ]
  },
  {
   "cell_type": "code",
   "execution_count": null,
   "metadata": {},
   "outputs": [],
   "source": [
    "print(portfolio_weights*marginal_var/portfolio_value_at_risk)"
   ]
  },
  {
   "cell_type": "markdown",
   "metadata": {},
   "source": [
    "###  Excercise 2.6"
   ]
  },
  {
   "cell_type": "code",
   "execution_count": null,
   "metadata": {},
   "outputs": [],
   "source": [
    "#See word"
   ]
  },
  {
   "cell_type": "markdown",
   "metadata": {},
   "source": [
    "###  Excercise 2.7"
   ]
  },
  {
   "cell_type": "code",
   "execution_count": null,
   "metadata": {},
   "outputs": [],
   "source": [
    "np.random.seed(1)\n",
    "\n",
    "time_series = np.zeros((1000,len(stock_data2['Return AAPL (Apple)'])))\n",
    "\n",
    "for i in range(0,999):\n",
    "    randint = np.int_(np.random.uniform(low = 1, high = len(stock_data2['Return AAPL (Apple)']), size = 1000))\n",
    "    \n",
    "    for j in range(1,len(stock_data2['Return AAPL (Apple)'])):\n",
    "        time_series[i][j] = stock_data2['Return AAPL (Apple)'][randint[j]]  "
   ]
  },
  {
   "cell_type": "code",
   "execution_count": null,
   "metadata": {},
   "outputs": [],
   "source": [
    "st_dev = []\n",
    "emp_var99 = [] \n",
    "emp_var95 = []\n",
    "\n",
    "\n",
    "for i in range(0,999):\n",
    "    st_dev.append(np.std(time_series[i]))\n",
    "    emp_var99.append(varalpha(time_series[i], 0.01))\n",
    "    emp_var95.append(varalpha(time_series[i], 0.05))\n",
    "    \n",
    "std_sorted = np.sort(st_dev)\n",
    "emp_var99_sorted = np.sort(emp_var99)\n",
    "emp_var95_sorted = np.sort(emp_var95)"
   ]
  },
  {
   "cell_type": "code",
   "execution_count": null,
   "metadata": {},
   "outputs": [],
   "source": [
    "plt.hist(std_sorted, bins = np.linspace(std_sorted.min(),std_sorted.max()), color = 'red')\n",
    "plt.show()\n",
    "\n",
    "plt.hist(emp_var99_sorted, bins = np.linspace(emp_var99_sorted.min(),emp_var99_sorted.max()), color = 'blue')\n",
    "plt.show()\n",
    "\n",
    "plt.hist(emp_var95_sorted, bins = np.linspace(emp_var95_sorted.min(),emp_var95_sorted.max()), color = 'grey')\n",
    "plt.show()"
   ]
  },
  {
   "cell_type": "code",
   "execution_count": null,
   "metadata": {},
   "outputs": [],
   "source": []
  }
 ],
 "metadata": {
  "kernelspec": {
   "display_name": "Python 3",
   "language": "python",
   "name": "python3"
  },
  "language_info": {
   "codemirror_mode": {
    "name": "ipython",
    "version": 3
   },
   "file_extension": ".py",
   "mimetype": "text/x-python",
   "name": "python",
   "nbconvert_exporter": "python",
   "pygments_lexer": "ipython3",
   "version": "3.6.5"
  }
 },
 "nbformat": 4,
 "nbformat_minor": 2
}
