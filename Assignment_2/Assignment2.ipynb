{
 "cells": [
  {
   "cell_type": "markdown",
   "metadata": {},
   "source": [
    "# Assignment 2"
   ]
  },
  {
   "cell_type": "code",
   "execution_count": 10,
   "metadata": {},
   "outputs": [],
   "source": [
    "#Import Libraries\n",
    "import numpy as np\n",
    "import pandas as pd\n",
    "import matplotlib.pyplot as plt\n",
    "from scipy.optimize import minimize\n",
    "from scipy.stats import norm\n",
    "%matplotlib inline"
   ]
  },
  {
   "cell_type": "markdown",
   "metadata": {},
   "source": [
    "### Load Dataset"
   ]
  },
  {
   "cell_type": "code",
   "execution_count": 11,
   "metadata": {},
   "outputs": [
    {
     "data": {
      "text/html": [
       "<div>\n",
       "<style scoped>\n",
       "    .dataframe tbody tr th:only-of-type {\n",
       "        vertical-align: middle;\n",
       "    }\n",
       "\n",
       "    .dataframe tbody tr th {\n",
       "        vertical-align: top;\n",
       "    }\n",
       "\n",
       "    .dataframe thead th {\n",
       "        text-align: right;\n",
       "    }\n",
       "</style>\n",
       "<table border=\"1\" class=\"dataframe\">\n",
       "  <thead>\n",
       "    <tr style=\"text-align: right;\">\n",
       "      <th></th>\n",
       "      <th>LISN</th>\n",
       "      <th>BAER</th>\n",
       "    </tr>\n",
       "    <tr>\n",
       "      <th>Date</th>\n",
       "      <th></th>\n",
       "      <th></th>\n",
       "    </tr>\n",
       "  </thead>\n",
       "  <tbody>\n",
       "    <tr>\n",
       "      <th>2010-01-01</th>\n",
       "      <td>NaN</td>\n",
       "      <td>NaN</td>\n",
       "    </tr>\n",
       "    <tr>\n",
       "      <th>2010-01-08</th>\n",
       "      <td>0.018894</td>\n",
       "      <td>-0.005909</td>\n",
       "    </tr>\n",
       "    <tr>\n",
       "      <th>2010-01-15</th>\n",
       "      <td>-0.022600</td>\n",
       "      <td>0.042174</td>\n",
       "    </tr>\n",
       "    <tr>\n",
       "      <th>2010-01-22</th>\n",
       "      <td>0.035573</td>\n",
       "      <td>-0.064639</td>\n",
       "    </tr>\n",
       "    <tr>\n",
       "      <th>2010-01-29</th>\n",
       "      <td>0.003817</td>\n",
       "      <td>0.000290</td>\n",
       "    </tr>\n",
       "  </tbody>\n",
       "</table>\n",
       "</div>"
      ],
      "text/plain": [
       "                LISN      BAER\n",
       "Date                          \n",
       "2010-01-01       NaN       NaN\n",
       "2010-01-08  0.018894 -0.005909\n",
       "2010-01-15 -0.022600  0.042174\n",
       "2010-01-22  0.035573 -0.064639\n",
       "2010-01-29  0.003817  0.000290"
      ]
     },
     "execution_count": 11,
     "metadata": {},
     "output_type": "execute_result"
    }
   ],
   "source": [
    "#Import Data\n",
    "stock_data = pd.read_excel('PS1-2_Studynet.xlsx')\n",
    "\n",
    "#Clean Header\n",
    "stock_data.columns = stock_data.columns.str.replace(\"Equity\", \"\")\n",
    "stock_data.columns = stock_data.columns.str.replace(\"SE\", \"\")\n",
    "stock_data.columns = stock_data.columns.str.replace(\"SW\", \"\")\n",
    "stock_data.columns = stock_data.columns.str.replace(\" \", \"\")\n",
    "stock_data = stock_data.set_index('Date')\n",
    "stock_data = stock_data[['LISN','BAER']].loc['2010-01-01':'2017-12-29']\n",
    "\n",
    "stock_data['LISN'] = stock_data.LISN / stock_data.LISN.shift(1) - 1\n",
    "stock_data['BAER'] = stock_data.BAER / stock_data.BAER.shift(1) - 1\n",
    "stock_data.head()"
   ]
  },
  {
   "cell_type": "markdown",
   "metadata": {},
   "source": [
    "### Excercise 1.1"
   ]
  },
  {
   "cell_type": "code",
   "execution_count": 19,
   "metadata": {},
   "outputs": [],
   "source": [
    "#m_lisn = np.mean(stock_data['LISN'])\n",
    "#m_baer = np.mean(stock_data['BAER'])\n",
    "\n",
    "def mad(data):\n",
    "    return np.mean(np.absolute(data - np.mean(data)))\n",
    "\n",
    "def semidev(data):\n",
    "    return np.mean(np.power(np.minimum(stock_data['BAER'],0),2))\n",
    "\n",
    "def exp_shortfall(alpha,data):\n",
    "    #condiational variance, expected shortfall\n",
    "    \n",
    "    mu = np.mean(data)\n",
    "    sigma = np.std(data)\n",
    "    \n",
    "    return alpha**-1 * norm.pdf(norm.ppf(alpha))*sigma - mu"
   ]
  },
  {
   "cell_type": "code",
   "execution_count": 20,
   "metadata": {},
   "outputs": [
    {
     "data": {
      "text/html": [
       "<div>\n",
       "<style scoped>\n",
       "    .dataframe tbody tr th:only-of-type {\n",
       "        vertical-align: middle;\n",
       "    }\n",
       "\n",
       "    .dataframe tbody tr th {\n",
       "        vertical-align: top;\n",
       "    }\n",
       "\n",
       "    .dataframe thead th {\n",
       "        text-align: right;\n",
       "    }\n",
       "</style>\n",
       "<table border=\"1\" class=\"dataframe\">\n",
       "  <thead>\n",
       "    <tr style=\"text-align: right;\">\n",
       "      <th></th>\n",
       "      <th>LISN</th>\n",
       "      <th>BAER</th>\n",
       "    </tr>\n",
       "  </thead>\n",
       "  <tbody>\n",
       "    <tr>\n",
       "      <th>Std</th>\n",
       "      <td>0.022400</td>\n",
       "      <td>0.038100</td>\n",
       "    </tr>\n",
       "    <tr>\n",
       "      <th>Mad</th>\n",
       "      <td>0.017053</td>\n",
       "      <td>0.026997</td>\n",
       "    </tr>\n",
       "    <tr>\n",
       "      <th>Semi Dev</th>\n",
       "      <td>0.000711</td>\n",
       "      <td>0.000711</td>\n",
       "    </tr>\n",
       "    <tr>\n",
       "      <th>Exp. Shortfall 95%</th>\n",
       "      <td>0.043561</td>\n",
       "      <td>0.076514</td>\n",
       "    </tr>\n",
       "    <tr>\n",
       "      <th>Exp. Shortfall 99%</th>\n",
       "      <td>0.057074</td>\n",
       "      <td>0.099441</td>\n",
       "    </tr>\n",
       "  </tbody>\n",
       "</table>\n",
       "</div>"
      ],
      "text/plain": [
       "                        LISN      BAER\n",
       "Std                 0.022400  0.038100\n",
       "Mad                 0.017053  0.026997\n",
       "Semi Dev            0.000711  0.000711\n",
       "Exp. Shortfall 95%  0.043561  0.076514\n",
       "Exp. Shortfall 99%  0.057074  0.099441"
      ]
     },
     "execution_count": 20,
     "metadata": {},
     "output_type": "execute_result"
    }
   ],
   "source": [
    "output = {'LISN':   [round(np.std(stock_data['LISN']),4), mad(stock_data['LISN']), semidev(stock_data['LISN']), exp_shortfall(0.05,stock_data['LISN']), exp_shortfall(0.01,stock_data['LISN'])], \n",
    "          'BAER':   [round(np.std(stock_data['BAER']),4), mad(stock_data['BAER']), semidev(stock_data['BAER']), exp_shortfall(0.05,stock_data['BAER']), exp_shortfall(0.01,stock_data['BAER'])]}\n",
    "\n",
    "ouput_table = pd.DataFrame(data = output, index = ['Std', 'Mad','Semi Dev', 'Exp. Shortfall 95%','Exp. Shortfall 99%'])\n",
    "ouput_table"
   ]
  },
  {
   "cell_type": "markdown",
   "metadata": {},
   "source": [
    "### Excersise 1.2"
   ]
  },
  {
   "cell_type": "code",
   "execution_count": 49,
   "metadata": {},
   "outputs": [
    {
     "data": {
      "text/plain": [
       "-0.04961411644774286"
      ]
     },
     "execution_count": 49,
     "metadata": {},
     "output_type": "execute_result"
    }
   ],
   "source": [
    "def emp_expshort(data, alpha):\n",
    "    \n",
    "    def delta(ret, vara):\n",
    "        if ret < (vara*-1):\n",
    "            return 1\n",
    "        else:\n",
    "            return 0\n",
    "    \n",
    "    def varalpha(data, alpha):\n",
    "        return - (np.mean(data) - norm.ppf(0.05)*np.std(data))\n",
    "    \n",
    "    vara = varalpha(data, alpha)\n",
    "    \n",
    "    sum_delta = []\n",
    "    \n",
    "    for i in range(0,len(data)):\n",
    "        sum_delta.append(delta(data[i], vara))\n",
    "\n",
    "    ES = (-1/np.sum(sum_delta))*np.sum(sum_delta*data)\n",
    "    \n",
    "    return ES \n",
    "\n",
    "emp_expshort(stock_data['LISN'], 0.05)*100\n"
   ]
  },
  {
   "cell_type": "code",
   "execution_count": null,
   "metadata": {},
   "outputs": [],
   "source": []
  },
  {
   "cell_type": "code",
   "execution_count": null,
   "metadata": {},
   "outputs": [],
   "source": []
  }
 ],
 "metadata": {
  "kernelspec": {
   "display_name": "Python 3",
   "language": "python",
   "name": "python3"
  },
  "language_info": {
   "codemirror_mode": {
    "name": "ipython",
    "version": 3
   },
   "file_extension": ".py",
   "mimetype": "text/x-python",
   "name": "python",
   "nbconvert_exporter": "python",
   "pygments_lexer": "ipython3",
   "version": "3.6.5"
  }
 },
 "nbformat": 4,
 "nbformat_minor": 2
}
