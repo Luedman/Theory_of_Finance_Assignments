{
 "cells": [
  {
   "cell_type": "markdown",
   "metadata": {},
   "source": [
    "# Assignment 2"
   ]
  },
  {
   "cell_type": "code",
   "execution_count": 1,
   "metadata": {},
   "outputs": [],
   "source": [
    "#Import Libraries\n",
    "import numpy as np\n",
    "import pandas as pd\n",
    "import matplotlib.pyplot as plt\n",
    "from scipy.optimize import minimize\n",
    "from scipy.stats import norm\n",
    "from math import pi\n",
    "%matplotlib inline"
   ]
  },
  {
   "cell_type": "markdown",
   "metadata": {},
   "source": [
    "### Load Dataset"
   ]
  },
  {
   "cell_type": "code",
   "execution_count": 2,
   "metadata": {},
   "outputs": [
    {
     "data": {
      "text/html": [
       "<div>\n",
       "<style scoped>\n",
       "    .dataframe tbody tr th:only-of-type {\n",
       "        vertical-align: middle;\n",
       "    }\n",
       "\n",
       "    .dataframe tbody tr th {\n",
       "        vertical-align: top;\n",
       "    }\n",
       "\n",
       "    .dataframe thead th {\n",
       "        text-align: right;\n",
       "    }\n",
       "</style>\n",
       "<table border=\"1\" class=\"dataframe\">\n",
       "  <thead>\n",
       "    <tr style=\"text-align: right;\">\n",
       "      <th></th>\n",
       "      <th>ABBN</th>\n",
       "      <th>SPSN</th>\n",
       "      <th>SIKA</th>\n",
       "      <th>LOGN</th>\n",
       "      <th>PGHN</th>\n",
       "      <th>DOKA</th>\n",
       "      <th>ZURN</th>\n",
       "      <th>AMS</th>\n",
       "      <th>GIVN</th>\n",
       "      <th>SOON</th>\n",
       "      <th>...</th>\n",
       "      <th>LONN</th>\n",
       "      <th>CLN</th>\n",
       "      <th>NESN</th>\n",
       "      <th>ARYN</th>\n",
       "      <th>HELN</th>\n",
       "      <th>GEBN</th>\n",
       "      <th>FHZN</th>\n",
       "      <th>ROG</th>\n",
       "      <th>PSPN</th>\n",
       "      <th>UBSG</th>\n",
       "    </tr>\n",
       "    <tr>\n",
       "      <th>Date</th>\n",
       "      <th></th>\n",
       "      <th></th>\n",
       "      <th></th>\n",
       "      <th></th>\n",
       "      <th></th>\n",
       "      <th></th>\n",
       "      <th></th>\n",
       "      <th></th>\n",
       "      <th></th>\n",
       "      <th></th>\n",
       "      <th></th>\n",
       "      <th></th>\n",
       "      <th></th>\n",
       "      <th></th>\n",
       "      <th></th>\n",
       "      <th></th>\n",
       "      <th></th>\n",
       "      <th></th>\n",
       "      <th></th>\n",
       "      <th></th>\n",
       "      <th></th>\n",
       "    </tr>\n",
       "  </thead>\n",
       "  <tbody>\n",
       "    <tr>\n",
       "      <th>2010-01-01</th>\n",
       "      <td>19.94</td>\n",
       "      <td>56.57</td>\n",
       "      <td>26.92</td>\n",
       "      <td>17.93</td>\n",
       "      <td>130.6</td>\n",
       "      <td>249.10</td>\n",
       "      <td>226.5</td>\n",
       "      <td>4.53</td>\n",
       "      <td>826.5</td>\n",
       "      <td>125.5</td>\n",
       "      <td>...</td>\n",
       "      <td>67.62</td>\n",
       "      <td>12.146</td>\n",
       "      <td>50.20</td>\n",
       "      <td>38.074</td>\n",
       "      <td>320.75</td>\n",
       "      <td>183.5</td>\n",
       "      <td>62.25</td>\n",
       "      <td>175.8</td>\n",
       "      <td>58.50</td>\n",
       "      <td>16.05</td>\n",
       "    </tr>\n",
       "    <tr>\n",
       "      <th>2010-01-08</th>\n",
       "      <td>21.05</td>\n",
       "      <td>57.69</td>\n",
       "      <td>27.75</td>\n",
       "      <td>18.65</td>\n",
       "      <td>138.2</td>\n",
       "      <td>257.25</td>\n",
       "      <td>232.4</td>\n",
       "      <td>5.10</td>\n",
       "      <td>863.0</td>\n",
       "      <td>128.9</td>\n",
       "      <td>...</td>\n",
       "      <td>73.13</td>\n",
       "      <td>12.573</td>\n",
       "      <td>49.11</td>\n",
       "      <td>38.667</td>\n",
       "      <td>334.75</td>\n",
       "      <td>185.3</td>\n",
       "      <td>62.35</td>\n",
       "      <td>178.5</td>\n",
       "      <td>61.30</td>\n",
       "      <td>17.21</td>\n",
       "    </tr>\n",
       "    <tr>\n",
       "      <th>2010-01-15</th>\n",
       "      <td>20.61</td>\n",
       "      <td>59.00</td>\n",
       "      <td>27.37</td>\n",
       "      <td>18.65</td>\n",
       "      <td>132.0</td>\n",
       "      <td>257.25</td>\n",
       "      <td>233.0</td>\n",
       "      <td>5.23</td>\n",
       "      <td>868.5</td>\n",
       "      <td>132.1</td>\n",
       "      <td>...</td>\n",
       "      <td>75.86</td>\n",
       "      <td>12.513</td>\n",
       "      <td>49.12</td>\n",
       "      <td>39.407</td>\n",
       "      <td>331.00</td>\n",
       "      <td>191.2</td>\n",
       "      <td>60.70</td>\n",
       "      <td>184.4</td>\n",
       "      <td>61.90</td>\n",
       "      <td>16.10</td>\n",
       "    </tr>\n",
       "    <tr>\n",
       "      <th>2010-01-22</th>\n",
       "      <td>19.26</td>\n",
       "      <td>58.22</td>\n",
       "      <td>26.40</td>\n",
       "      <td>18.44</td>\n",
       "      <td>131.4</td>\n",
       "      <td>263.00</td>\n",
       "      <td>226.9</td>\n",
       "      <td>5.59</td>\n",
       "      <td>873.0</td>\n",
       "      <td>133.6</td>\n",
       "      <td>...</td>\n",
       "      <td>73.08</td>\n",
       "      <td>11.609</td>\n",
       "      <td>50.55</td>\n",
       "      <td>40.988</td>\n",
       "      <td>326.50</td>\n",
       "      <td>189.2</td>\n",
       "      <td>58.50</td>\n",
       "      <td>184.8</td>\n",
       "      <td>60.60</td>\n",
       "      <td>14.93</td>\n",
       "    </tr>\n",
       "    <tr>\n",
       "      <th>2010-01-29</th>\n",
       "      <td>19.45</td>\n",
       "      <td>58.22</td>\n",
       "      <td>27.18</td>\n",
       "      <td>18.13</td>\n",
       "      <td>132.0</td>\n",
       "      <td>266.25</td>\n",
       "      <td>227.6</td>\n",
       "      <td>5.60</td>\n",
       "      <td>869.5</td>\n",
       "      <td>131.9</td>\n",
       "      <td>...</td>\n",
       "      <td>70.07</td>\n",
       "      <td>11.688</td>\n",
       "      <td>50.50</td>\n",
       "      <td>41.580</td>\n",
       "      <td>331.75</td>\n",
       "      <td>187.7</td>\n",
       "      <td>60.00</td>\n",
       "      <td>178.5</td>\n",
       "      <td>60.95</td>\n",
       "      <td>14.03</td>\n",
       "    </tr>\n",
       "  </tbody>\n",
       "</table>\n",
       "<p>5 rows × 48 columns</p>\n",
       "</div>"
      ],
      "text/plain": [
       "             ABBN   SPSN   SIKA   LOGN   PGHN    DOKA   ZURN   AMS   GIVN  \\\n",
       "Date                                                                        \n",
       "2010-01-01  19.94  56.57  26.92  17.93  130.6  249.10  226.5  4.53  826.5   \n",
       "2010-01-08  21.05  57.69  27.75  18.65  138.2  257.25  232.4  5.10  863.0   \n",
       "2010-01-15  20.61  59.00  27.37  18.65  132.0  257.25  233.0  5.23  868.5   \n",
       "2010-01-22  19.26  58.22  26.40  18.44  131.4  263.00  226.9  5.59  873.0   \n",
       "2010-01-29  19.45  58.22  27.18  18.13  132.0  266.25  227.6  5.60  869.5   \n",
       "\n",
       "             SOON  ...     LONN     CLN   NESN    ARYN    HELN   GEBN   FHZN  \\\n",
       "Date               ...                                                         \n",
       "2010-01-01  125.5  ...    67.62  12.146  50.20  38.074  320.75  183.5  62.25   \n",
       "2010-01-08  128.9  ...    73.13  12.573  49.11  38.667  334.75  185.3  62.35   \n",
       "2010-01-15  132.1  ...    75.86  12.513  49.12  39.407  331.00  191.2  60.70   \n",
       "2010-01-22  133.6  ...    73.08  11.609  50.55  40.988  326.50  189.2  58.50   \n",
       "2010-01-29  131.9  ...    70.07  11.688  50.50  41.580  331.75  187.7  60.00   \n",
       "\n",
       "              ROG   PSPN   UBSG  \n",
       "Date                             \n",
       "2010-01-01  175.8  58.50  16.05  \n",
       "2010-01-08  178.5  61.30  17.21  \n",
       "2010-01-15  184.4  61.90  16.10  \n",
       "2010-01-22  184.8  60.60  14.93  \n",
       "2010-01-29  178.5  60.95  14.03  \n",
       "\n",
       "[5 rows x 48 columns]"
      ]
     },
     "execution_count": 2,
     "metadata": {},
     "output_type": "execute_result"
    }
   ],
   "source": [
    "#Import Data\n",
    "stock_data = pd.read_excel('PS1-2_Studynet.xlsx')\n",
    "\n",
    "#Clean Header\n",
    "stock_data.columns = stock_data.columns.str.replace(\"Equity\", \"\")\n",
    "stock_data.columns = stock_data.columns.str.replace(\"SE\", \"\")\n",
    "stock_data.columns = stock_data.columns.str.replace(\"SW\", \"\")\n",
    "stock_data.columns = stock_data.columns.str.replace(\" \", \"\")\n",
    "stock_data = stock_data.set_index('Date')\n",
    "stock_data = stock_data.loc['2010-01-01':'2017-12-29']\n",
    "\n",
    "stock_data['LISN'] = stock_data.LISN / stock_data.LISN.shift(1) - 1\n",
    "stock_data['BAER'] = stock_data.BAER / stock_data.BAER.shift(1) - 1\n",
    "stock_data.head()"
   ]
  },
  {
   "cell_type": "markdown",
   "metadata": {},
   "source": [
    "### Excercise 1.1"
   ]
  },
  {
   "cell_type": "code",
   "execution_count": 3,
   "metadata": {},
   "outputs": [],
   "source": [
    "#Calculate different risk measures taking a time series (data) as input\n",
    "\n",
    "def emp_mad(data):\n",
    "    return np.mean(np.absolute(data - np.mean(data)))\n",
    "\n",
    "def norm_mad(data):\n",
    "    return np.sqrt(2/pi)*np.std(data)\n",
    "\n",
    "def semidev(data):\n",
    "    return np.sqrt(np.mean(np.power(np.minimum(data,np.mean(data)),2)))\n",
    "\n",
    "def exp_shortfall(alpha,data):\n",
    "    #condiational variance, expected shortfall\n",
    "    \n",
    "    mu = np.mean(data)\n",
    "    sigma = np.std(data)\n",
    "    \n",
    "    return (1 - alpha)** -1 * norm.pdf(norm.ppf(alpha))*sigma - mu"
   ]
  },
  {
   "cell_type": "markdown",
   "metadata": {},
   "source": [
    "### Excersise 1.2"
   ]
  },
  {
   "cell_type": "code",
   "execution_count": 4,
   "metadata": {},
   "outputs": [
    {
     "name": "stdout",
     "output_type": "stream",
     "text": [
      "-0.0019138388926026048\n",
      "-0.0004961411644774286\n"
     ]
    }
   ],
   "source": [
    "#Empirical Shortfall\n",
    "def emp_expshort(data, alpha):\n",
    "    \n",
    "    def delta(ret, vara):\n",
    "        if ret < (vara*-1):\n",
    "            return 1\n",
    "        else:\n",
    "            return 0\n",
    "    \n",
    "    def varalpha(data, alpha):\n",
    "        return - (np.mean(data) - norm.ppf(alpha)*np.std(data))\n",
    "    \n",
    "    vara = varalpha(data, alpha)\n",
    "    \n",
    "    sum_delta = []\n",
    "    \n",
    "    #Check wheter the indicator function delta is one or zero for all datapoints and take the sum \n",
    "    for i in range(0,len(data)):\n",
    "        sum_delta.append(delta(data[i], vara))\n",
    "\n",
    "    ES = (-1/np.sum(sum_delta))*np.sum(sum_delta * data)\n",
    "    \n",
    "    return ES \n",
    "\n",
    "print(emp_expshort(stock_data['LISN'], 0.01))\n",
    "print(emp_expshort(stock_data['LISN'], 0.05))"
   ]
  },
  {
   "cell_type": "code",
   "execution_count": 5,
   "metadata": {},
   "outputs": [
    {
     "data": {
      "text/html": [
       "<div>\n",
       "<style scoped>\n",
       "    .dataframe tbody tr th:only-of-type {\n",
       "        vertical-align: middle;\n",
       "    }\n",
       "\n",
       "    .dataframe tbody tr th {\n",
       "        vertical-align: top;\n",
       "    }\n",
       "\n",
       "    .dataframe thead th {\n",
       "        text-align: right;\n",
       "    }\n",
       "</style>\n",
       "<table border=\"1\" class=\"dataframe\">\n",
       "  <thead>\n",
       "    <tr style=\"text-align: right;\">\n",
       "      <th></th>\n",
       "      <th>LISN</th>\n",
       "      <th>BAER</th>\n",
       "    </tr>\n",
       "  </thead>\n",
       "  <tbody>\n",
       "    <tr>\n",
       "      <th>Standard deviation</th>\n",
       "      <td>0.022428</td>\n",
       "      <td>0.038053</td>\n",
       "    </tr>\n",
       "    <tr>\n",
       "      <th>Empirical MAD</th>\n",
       "      <td>0.017053</td>\n",
       "      <td>0.026997</td>\n",
       "    </tr>\n",
       "    <tr>\n",
       "      <th>Normal MAD</th>\n",
       "      <td>0.017895</td>\n",
       "      <td>0.030362</td>\n",
       "    </tr>\n",
       "    <tr>\n",
       "      <th>Semi-standard deviation</th>\n",
       "      <td>0.015011</td>\n",
       "      <td>0.026697</td>\n",
       "    </tr>\n",
       "    <tr>\n",
       "      <th>Exp. Shortfall 95%</th>\n",
       "      <td>-0.000267</td>\n",
       "      <td>0.002154</td>\n",
       "    </tr>\n",
       "    <tr>\n",
       "      <th>Exp. Shortfall 99%</th>\n",
       "      <td>-0.002098</td>\n",
       "      <td>-0.000953</td>\n",
       "    </tr>\n",
       "    <tr>\n",
       "      <th>Empirical Ecpected Shortfall 95%</th>\n",
       "      <td>-0.000496</td>\n",
       "      <td>0.002799</td>\n",
       "    </tr>\n",
       "    <tr>\n",
       "      <th>Empirical Ecpected Shortfall 99%</th>\n",
       "      <td>-0.001914</td>\n",
       "      <td>-0.000675</td>\n",
       "    </tr>\n",
       "  </tbody>\n",
       "</table>\n",
       "</div>"
      ],
      "text/plain": [
       "                                      LISN      BAER\n",
       "Standard deviation                0.022428  0.038053\n",
       "Empirical MAD                     0.017053  0.026997\n",
       "Normal MAD                        0.017895  0.030362\n",
       "Semi-standard deviation           0.015011  0.026697\n",
       "Exp. Shortfall 95%               -0.000267  0.002154\n",
       "Exp. Shortfall 99%               -0.002098 -0.000953\n",
       "Empirical Ecpected Shortfall 95% -0.000496  0.002799\n",
       "Empirical Ecpected Shortfall 99% -0.001914 -0.000675"
      ]
     },
     "execution_count": 5,
     "metadata": {},
     "output_type": "execute_result"
    }
   ],
   "source": [
    "#Create Table\n",
    "output = {'LISN':   [round(np.std(stock_data['LISN']),6), \n",
    "                         emp_mad(stock_data['LISN']),\n",
    "                         norm_mad(stock_data['LISN']),\n",
    "                         semidev(stock_data['LISN']), \n",
    "                         exp_shortfall(0.05,stock_data['LISN']), \n",
    "                         exp_shortfall(0.01,stock_data['LISN']), \n",
    "                         emp_expshort(stock_data['LISN'], 0.05),\n",
    "                         emp_expshort(stock_data['LISN'], 0.01)], \n",
    "          \n",
    "          'BAER':   [round(np.std(stock_data['BAER']),6), \n",
    "                         emp_mad(stock_data['BAER']),\n",
    "                         norm_mad(stock_data['BAER']),\n",
    "                         semidev(stock_data['BAER']), \n",
    "                         exp_shortfall(0.05,stock_data['BAER']), \n",
    "                         exp_shortfall(0.01,stock_data['BAER']),\n",
    "                         emp_expshort(stock_data['BAER'], 0.05),\n",
    "                         emp_expshort(stock_data['BAER'], 0.01)]}\n",
    "\n",
    "ouput_table = pd.DataFrame(data = output, index = ['Standard deviation', 'Empirical MAD','Normal MAD','Semi-standard deviation', \n",
    "                                                   'Exp. Shortfall 95%',\n",
    "                                                   'Exp. Shortfall 99%', \n",
    "                                                   'Empirical Ecpected Shortfall 95%',\n",
    "                                                   'Empirical Ecpected Shortfall 99%',])\n",
    "ouput_table"
   ]
  },
  {
   "cell_type": "markdown",
   "metadata": {},
   "source": [
    "### Excersice 1.3"
   ]
  },
  {
   "cell_type": "code",
   "execution_count": 6,
   "metadata": {},
   "outputs": [
    {
     "name": "stdout",
     "output_type": "stream",
     "text": [
      "The Sdv in CHF for LISN is 44856.28\n",
      "The Sdv in CHF for BAER is 76105.06\n"
     ]
    }
   ],
   "source": [
    "print(\"The Sdv in CHF for LISN is\", round(np.std(stock_data['LISN'])*np.sqrt(4) * 1000000,2))\n",
    "print(\"The Sdv in CHF for BAER is\", round(np.std(stock_data['BAER'])*np.sqrt(4) * 1000000,2))"
   ]
  },
  {
   "cell_type": "markdown",
   "metadata": {},
   "source": [
    "### Excersise 1.4"
   ]
  },
  {
   "cell_type": "code",
   "execution_count": 7,
   "metadata": {},
   "outputs": [
    {
     "data": {
      "image/png": "[encoded data removed]",
      "text/plain": [
       "<Figure size 432x288 with 1 Axes>"
      ]
     },
     "metadata": {},
     "output_type": "display_data"
    }
   ],
   "source": [
    "#Sort returns from lowest to highest and plot them towars the norm distribution\n",
    "returns_sorted = stock_data.sort_values('LISN')['LISN']\n",
    "sdt_norm = pd.DataFrame(np.random.normal(np.mean(stock_data['LISN']),np.std(stock_data['LISN']),size = len(stock_data['LISN'])))\n",
    "sdt_norm = sdt_norm.sort_values(0)\n",
    "\n",
    "\n",
    "plt.plot(sdt_norm, returns_sorted, color = 'grey', label = 'QQ', marker ='o')\n",
    "\n",
    "plt.xlabel('Normal Distribution')\n",
    "plt.ylabel('Empirical Returns')\n",
    "\n",
    "plt.show()"
   ]
  },
  {
   "cell_type": "code",
   "execution_count": 8,
   "metadata": {
    "scrolled": true
   },
   "outputs": [
    {
     "data": {
      "image/png": "[encoded data removed]",
      "text/plain": [
       "<Figure size 432x288 with 1 Axes>"
      ]
     },
     "metadata": {},
     "output_type": "display_data"
    }
   ],
   "source": [
    "plt.hist(stock_data['LISN'][1:], 50 ,density = True, facecolor='g', alpha=0.75)\n",
    "p = np.random.normal(np.mean(stock_data['LISN']),np.std(stock_data['LISN']),size = len(stock_data['LISN']))\n",
    "\n",
    "plt.show()"
   ]
  },
  {
   "cell_type": "markdown",
   "metadata": {},
   "source": [
    "### Excersise 2"
   ]
  },
  {
   "cell_type": "code",
   "execution_count": 9,
   "metadata": {},
   "outputs": [],
   "source": [
    "#Empirical Var with flexibel alpha level\n",
    "def emp_var(data, alpha, asset):\n",
    "    \n",
    "    index = int(np.around((len(data[asset]) / 100 * alpha)))\n",
    "    \n",
    "    returns_sorted = data.sort_values(asset)[asset]\n",
    "    \n",
    "    return returns_sorted[index]    "
   ]
  },
  {
   "cell_type": "code",
   "execution_count": 10,
   "metadata": {},
   "outputs": [
    {
     "data": {
      "text/html": [
       "<div>\n",
       "<style scoped>\n",
       "    .dataframe tbody tr th:only-of-type {\n",
       "        vertical-align: middle;\n",
       "    }\n",
       "\n",
       "    .dataframe tbody tr th {\n",
       "        vertical-align: top;\n",
       "    }\n",
       "\n",
       "    .dataframe thead th {\n",
       "        text-align: right;\n",
       "    }\n",
       "</style>\n",
       "<table border=\"1\" class=\"dataframe\">\n",
       "  <thead>\n",
       "    <tr style=\"text-align: right;\">\n",
       "      <th></th>\n",
       "      <th>WMT (Walmart)</th>\n",
       "      <th>AAPL (Apple)</th>\n",
       "      <th>DIS (The Walt Disney Company)</th>\n",
       "      <th>IBM (International Business Machines Corporation)</th>\n",
       "      <th>JNJ (Johnson &amp; Johnson)</th>\n",
       "      <th>KO (The Coca-Cola Company)</th>\n",
       "      <th>NKE (NIKE, Inc.)</th>\n",
       "      <th>TXN (Texas Instruments Incorporated)</th>\n",
       "      <th>Return WMT (Walmart)</th>\n",
       "      <th>Return AAPL (Apple)</th>\n",
       "      <th>Return DIS (The Walt Disney Company)</th>\n",
       "      <th>Return IBM (International Business Machines Corporation)</th>\n",
       "      <th>Return JNJ (Johnson &amp; Johnson)</th>\n",
       "      <th>Return KO (The Coca-Cola Company)</th>\n",
       "      <th>Return NKE (NIKE, Inc.)</th>\n",
       "      <th>Return TXN (Texas Instruments Incorporated)</th>\n",
       "    </tr>\n",
       "    <tr>\n",
       "      <th>Date</th>\n",
       "      <th></th>\n",
       "      <th></th>\n",
       "      <th></th>\n",
       "      <th></th>\n",
       "      <th></th>\n",
       "      <th></th>\n",
       "      <th></th>\n",
       "      <th></th>\n",
       "      <th></th>\n",
       "      <th></th>\n",
       "      <th></th>\n",
       "      <th></th>\n",
       "      <th></th>\n",
       "      <th></th>\n",
       "      <th></th>\n",
       "      <th></th>\n",
       "    </tr>\n",
       "  </thead>\n",
       "  <tbody>\n",
       "    <tr>\n",
       "      <th>2015-01-13</th>\n",
       "      <td>80.844254</td>\n",
       "      <td>103.152313</td>\n",
       "      <td>90.499176</td>\n",
       "      <td>134.107681</td>\n",
       "      <td>94.493309</td>\n",
       "      <td>37.982288</td>\n",
       "      <td>44.858578</td>\n",
       "      <td>48.042622</td>\n",
       "      <td>-0.007887</td>\n",
       "      <td>0.008879</td>\n",
       "      <td>0.007728</td>\n",
       "      <td>0.002365</td>\n",
       "      <td>0.001721</td>\n",
       "      <td>-0.000235</td>\n",
       "      <td>-0.008867</td>\n",
       "      <td>-0.006212</td>\n",
       "    </tr>\n",
       "    <tr>\n",
       "      <th>2015-01-14</th>\n",
       "      <td>78.400185</td>\n",
       "      <td>102.759262</td>\n",
       "      <td>89.586502</td>\n",
       "      <td>133.243927</td>\n",
       "      <td>93.807800</td>\n",
       "      <td>37.919918</td>\n",
       "      <td>44.244785</td>\n",
       "      <td>47.969810</td>\n",
       "      <td>-0.030232</td>\n",
       "      <td>-0.003810</td>\n",
       "      <td>-0.010085</td>\n",
       "      <td>-0.006441</td>\n",
       "      <td>-0.007255</td>\n",
       "      <td>-0.001642</td>\n",
       "      <td>-0.013683</td>\n",
       "      <td>-0.001516</td>\n",
       "    </tr>\n",
       "    <tr>\n",
       "      <th>2015-01-15</th>\n",
       "      <td>79.097206</td>\n",
       "      <td>99.970337</td>\n",
       "      <td>89.700562</td>\n",
       "      <td>132.191986</td>\n",
       "      <td>92.445770</td>\n",
       "      <td>37.759544</td>\n",
       "      <td>43.819859</td>\n",
       "      <td>47.678593</td>\n",
       "      <td>0.008891</td>\n",
       "      <td>-0.027140</td>\n",
       "      <td>0.001273</td>\n",
       "      <td>-0.007895</td>\n",
       "      <td>-0.014519</td>\n",
       "      <td>-0.004229</td>\n",
       "      <td>-0.009604</td>\n",
       "      <td>-0.006071</td>\n",
       "    </tr>\n",
       "    <tr>\n",
       "      <th>2015-01-16</th>\n",
       "      <td>78.545029</td>\n",
       "      <td>99.193558</td>\n",
       "      <td>90.489670</td>\n",
       "      <td>134.389893</td>\n",
       "      <td>93.843887</td>\n",
       "      <td>37.893192</td>\n",
       "      <td>43.904850</td>\n",
       "      <td>48.497650</td>\n",
       "      <td>-0.006981</td>\n",
       "      <td>-0.007770</td>\n",
       "      <td>0.008797</td>\n",
       "      <td>0.016627</td>\n",
       "      <td>0.015124</td>\n",
       "      <td>0.003539</td>\n",
       "      <td>0.001940</td>\n",
       "      <td>0.017179</td>\n",
       "    </tr>\n",
       "    <tr>\n",
       "      <th>2015-01-20</th>\n",
       "      <td>78.472610</td>\n",
       "      <td>101.748512</td>\n",
       "      <td>90.071350</td>\n",
       "      <td>134.227402</td>\n",
       "      <td>91.363388</td>\n",
       "      <td>38.454494</td>\n",
       "      <td>44.197578</td>\n",
       "      <td>48.970882</td>\n",
       "      <td>-0.000922</td>\n",
       "      <td>0.025757</td>\n",
       "      <td>-0.004623</td>\n",
       "      <td>-0.001209</td>\n",
       "      <td>-0.026432</td>\n",
       "      <td>0.014813</td>\n",
       "      <td>0.006667</td>\n",
       "      <td>0.009758</td>\n",
       "    </tr>\n",
       "  </tbody>\n",
       "</table>\n",
       "</div>"
      ],
      "text/plain": [
       "            WMT (Walmart)  AAPL (Apple)  DIS (The Walt Disney Company)  \\\n",
       "Date                                                                     \n",
       "2015-01-13      80.844254    103.152313                      90.499176   \n",
       "2015-01-14      78.400185    102.759262                      89.586502   \n",
       "2015-01-15      79.097206     99.970337                      89.700562   \n",
       "2015-01-16      78.545029     99.193558                      90.489670   \n",
       "2015-01-20      78.472610    101.748512                      90.071350   \n",
       "\n",
       "            IBM (International Business Machines Corporation)  \\\n",
       "Date                                                            \n",
       "2015-01-13                                         134.107681   \n",
       "2015-01-14                                         133.243927   \n",
       "2015-01-15                                         132.191986   \n",
       "2015-01-16                                         134.389893   \n",
       "2015-01-20                                         134.227402   \n",
       "\n",
       "            JNJ (Johnson & Johnson)  KO (The Coca-Cola Company)  \\\n",
       "Date                                                              \n",
       "2015-01-13                94.493309                   37.982288   \n",
       "2015-01-14                93.807800                   37.919918   \n",
       "2015-01-15                92.445770                   37.759544   \n",
       "2015-01-16                93.843887                   37.893192   \n",
       "2015-01-20                91.363388                   38.454494   \n",
       "\n",
       "            NKE (NIKE, Inc.)  TXN (Texas Instruments Incorporated)  \\\n",
       "Date                                                                 \n",
       "2015-01-13         44.858578                             48.042622   \n",
       "2015-01-14         44.244785                             47.969810   \n",
       "2015-01-15         43.819859                             47.678593   \n",
       "2015-01-16         43.904850                             48.497650   \n",
       "2015-01-20         44.197578                             48.970882   \n",
       "\n",
       "            Return WMT (Walmart)  Return AAPL (Apple)  \\\n",
       "Date                                                    \n",
       "2015-01-13             -0.007887             0.008879   \n",
       "2015-01-14             -0.030232            -0.003810   \n",
       "2015-01-15              0.008891            -0.027140   \n",
       "2015-01-16             -0.006981            -0.007770   \n",
       "2015-01-20             -0.000922             0.025757   \n",
       "\n",
       "            Return DIS (The Walt Disney Company)  \\\n",
       "Date                                               \n",
       "2015-01-13                              0.007728   \n",
       "2015-01-14                             -0.010085   \n",
       "2015-01-15                              0.001273   \n",
       "2015-01-16                              0.008797   \n",
       "2015-01-20                             -0.004623   \n",
       "\n",
       "            Return IBM (International Business Machines Corporation)  \\\n",
       "Date                                                                   \n",
       "2015-01-13                                           0.002365          \n",
       "2015-01-14                                          -0.006441          \n",
       "2015-01-15                                          -0.007895          \n",
       "2015-01-16                                           0.016627          \n",
       "2015-01-20                                          -0.001209          \n",
       "\n",
       "            Return JNJ (Johnson & Johnson)  Return KO (The Coca-Cola Company)  \\\n",
       "Date                                                                            \n",
       "2015-01-13                        0.001721                          -0.000235   \n",
       "2015-01-14                       -0.007255                          -0.001642   \n",
       "2015-01-15                       -0.014519                          -0.004229   \n",
       "2015-01-16                        0.015124                           0.003539   \n",
       "2015-01-20                       -0.026432                           0.014813   \n",
       "\n",
       "            Return NKE (NIKE, Inc.)  \\\n",
       "Date                                  \n",
       "2015-01-13                -0.008867   \n",
       "2015-01-14                -0.013683   \n",
       "2015-01-15                -0.009604   \n",
       "2015-01-16                 0.001940   \n",
       "2015-01-20                 0.006667   \n",
       "\n",
       "            Return TXN (Texas Instruments Incorporated)  \n",
       "Date                                                     \n",
       "2015-01-13                                    -0.006212  \n",
       "2015-01-14                                    -0.001516  \n",
       "2015-01-15                                    -0.006071  \n",
       "2015-01-16                                     0.017179  \n",
       "2015-01-20                                     0.009758  "
      ]
     },
     "execution_count": 10,
     "metadata": {},
     "output_type": "execute_result"
    }
   ],
   "source": [
    "#Import Data\n",
    "stock_data2 = pd.read_excel('PS2-2.xlsx')\n",
    "stock_data2 = stock_data2.set_index('Date')\n",
    "\n",
    "cols = ['WMT (Walmart)', \n",
    "        'AAPL (Apple)', \n",
    "        'DIS (The Walt Disney Company)', \n",
    "        'IBM (International Business Machines Corporation)', \n",
    "        'JNJ (Johnson & Johnson)',\n",
    "        'KO (The Coca-Cola Company)',\n",
    "        'NKE (NIKE, Inc.)',\n",
    "        'TXN (Texas Instruments Incorporated)']\n",
    "\n",
    "for i in range(0,len(cols)):\n",
    "    stock_data2['Return ' + cols[i]] = stock_data2[cols[i]]/stock_data2[cols[i]].shift(1) - 1\n",
    "\n",
    "cols = stock_data2.columns\n",
    "\n",
    "#Drop fist row with Nan Returns\n",
    "stock_data2 = stock_data2.drop(stock_data2.index[0])\n",
    "#stock_data2[stock_data2.name != 'nan']\n",
    "\n",
    "stock_data2.head()"
   ]
  },
  {
   "cell_type": "markdown",
   "metadata": {},
   "source": [
    "### Excersise 2.1"
   ]
  },
  {
   "cell_type": "code",
   "execution_count": 11,
   "metadata": {},
   "outputs": [],
   "source": [
    "#Value at risk\n",
    "def varalpha(data, alpha):\n",
    "    return - (np.mean(data) - norm.ppf(alpha) * np.std(data))"
   ]
  },
  {
   "cell_type": "code",
   "execution_count": 12,
   "metadata": {},
   "outputs": [
    {
     "data": {
      "text/html": [
       "<div>\n",
       "<style scoped>\n",
       "    .dataframe tbody tr th:only-of-type {\n",
       "        vertical-align: middle;\n",
       "    }\n",
       "\n",
       "    .dataframe tbody tr th {\n",
       "        vertical-align: top;\n",
       "    }\n",
       "\n",
       "    .dataframe thead th {\n",
       "        text-align: right;\n",
       "    }\n",
       "</style>\n",
       "<table border=\"1\" class=\"dataframe\">\n",
       "  <thead>\n",
       "    <tr style=\"text-align: right;\">\n",
       "      <th></th>\n",
       "      <th>Return WMT (Walmart)</th>\n",
       "      <th>Return AAPL (Apple)</th>\n",
       "      <th>Return DIS (The Walt Disney Company)</th>\n",
       "      <th>Return IBM (International Business Machines Corporation)</th>\n",
       "      <th>Return JNJ (Johnson &amp; Johnson)</th>\n",
       "      <th>Return KO (The Coca-Cola Company)</th>\n",
       "      <th>Return NKE (NIKE, Inc.)</th>\n",
       "      <th>Return TXN (Texas Instruments Incorporated)</th>\n",
       "    </tr>\n",
       "  </thead>\n",
       "  <tbody>\n",
       "    <tr>\n",
       "      <th>95% Var</th>\n",
       "      <td>-0.020389</td>\n",
       "      <td>-0.024263</td>\n",
       "      <td>-0.019665</td>\n",
       "      <td>-0.019964</td>\n",
       "      <td>-0.014920</td>\n",
       "      <td>-0.013438</td>\n",
       "      <td>-0.023553</td>\n",
       "      <td>-0.023741</td>\n",
       "    </tr>\n",
       "    <tr>\n",
       "      <th>99% Var</th>\n",
       "      <td>-0.028703</td>\n",
       "      <td>-0.033984</td>\n",
       "      <td>-0.027673</td>\n",
       "      <td>-0.028111</td>\n",
       "      <td>-0.020862</td>\n",
       "      <td>-0.018896</td>\n",
       "      <td>-0.033083</td>\n",
       "      <td>-0.033094</td>\n",
       "    </tr>\n",
       "    <tr>\n",
       "      <th>Emp Var 95%</th>\n",
       "      <td>-0.016293</td>\n",
       "      <td>-0.022758</td>\n",
       "      <td>-0.016871</td>\n",
       "      <td>-0.017204</td>\n",
       "      <td>-0.014105</td>\n",
       "      <td>-0.013072</td>\n",
       "      <td>-0.019353</td>\n",
       "      <td>-0.022316</td>\n",
       "    </tr>\n",
       "    <tr>\n",
       "      <th>Emp Var 99%</th>\n",
       "      <td>-0.030817</td>\n",
       "      <td>-0.035013</td>\n",
       "      <td>-0.035208</td>\n",
       "      <td>-0.036144</td>\n",
       "      <td>-0.021879</td>\n",
       "      <td>-0.022764</td>\n",
       "      <td>-0.036993</td>\n",
       "      <td>-0.035976</td>\n",
       "    </tr>\n",
       "  </tbody>\n",
       "</table>\n",
       "</div>"
      ],
      "text/plain": [
       "             Return WMT (Walmart)  Return AAPL (Apple)  \\\n",
       "95% Var                 -0.020389            -0.024263   \n",
       "99% Var                 -0.028703            -0.033984   \n",
       "Emp Var 95%             -0.016293            -0.022758   \n",
       "Emp Var 99%             -0.030817            -0.035013   \n",
       "\n",
       "             Return DIS (The Walt Disney Company)  \\\n",
       "95% Var                                 -0.019665   \n",
       "99% Var                                 -0.027673   \n",
       "Emp Var 95%                             -0.016871   \n",
       "Emp Var 99%                             -0.035208   \n",
       "\n",
       "             Return IBM (International Business Machines Corporation)  \\\n",
       "95% Var                                              -0.019964          \n",
       "99% Var                                              -0.028111          \n",
       "Emp Var 95%                                          -0.017204          \n",
       "Emp Var 99%                                          -0.036144          \n",
       "\n",
       "             Return JNJ (Johnson & Johnson)  \\\n",
       "95% Var                           -0.014920   \n",
       "99% Var                           -0.020862   \n",
       "Emp Var 95%                       -0.014105   \n",
       "Emp Var 99%                       -0.021879   \n",
       "\n",
       "             Return KO (The Coca-Cola Company)  Return NKE (NIKE, Inc.)  \\\n",
       "95% Var                              -0.013438                -0.023553   \n",
       "99% Var                              -0.018896                -0.033083   \n",
       "Emp Var 95%                          -0.013072                -0.019353   \n",
       "Emp Var 99%                          -0.022764                -0.036993   \n",
       "\n",
       "             Return TXN (Texas Instruments Incorporated)  \n",
       "95% Var                                        -0.023741  \n",
       "99% Var                                        -0.033094  \n",
       "Emp Var 95%                                    -0.022316  \n",
       "Emp Var 99%                                    -0.035976  "
      ]
     },
     "execution_count": 12,
     "metadata": {},
     "output_type": "execute_result"
    }
   ],
   "source": [
    "#Create Output Table\n",
    "output2 = {cols[8]:   [varalpha(stock_data2[cols[8]], 0.05),  varalpha(stock_data2[cols[8]], 0.01),  emp_var(stock_data2, 5, cols[8]),  emp_var(stock_data2, 1, cols[8])],  \n",
    "           cols[9]:   [varalpha(stock_data2[cols[9]], 0.05),  varalpha(stock_data2[cols[9]], 0.01),  emp_var(stock_data2, 5, cols[9]),  emp_var(stock_data2, 1, cols[9])], \n",
    "           cols[10]:  [varalpha(stock_data2[cols[10]], 0.05), varalpha(stock_data2[cols[10]], 0.01), emp_var(stock_data2, 5, cols[10]),  emp_var(stock_data2, 1, cols[10])], \n",
    "           cols[11]:  [varalpha(stock_data2[cols[11]], 0.05), varalpha(stock_data2[cols[11]], 0.01), emp_var(stock_data2, 5, cols[11]),  emp_var(stock_data2, 1, cols[11])], \n",
    "           cols[12]:  [varalpha(stock_data2[cols[12]], 0.05), varalpha(stock_data2[cols[12]], 0.01), emp_var(stock_data2, 5, cols[12]),  emp_var(stock_data2, 1, cols[12])], \n",
    "           cols[13]:  [varalpha(stock_data2[cols[13]], 0.05), varalpha(stock_data2[cols[13]], 0.01), emp_var(stock_data2, 5, cols[13]),  emp_var(stock_data2, 1, cols[13])], \n",
    "           cols[14]:  [varalpha(stock_data2[cols[14]], 0.05), varalpha(stock_data2[cols[14]], 0.01), emp_var(stock_data2, 5, cols[14]),  emp_var(stock_data2, 1, cols[14])],\n",
    "           cols[15]:  [varalpha(stock_data2[cols[15]], 0.05), varalpha(stock_data2[cols[15]], 0.01), emp_var(stock_data2, 5, cols[15]),  emp_var(stock_data2, 1, cols[15])], \n",
    "          }\n",
    "\n",
    "ouput_table2 = pd.DataFrame(data = output2, index = ['95% Var', '99% Var', 'Emp Var 95%', 'Emp Var 99%'])\n",
    "ouput_table2"
   ]
  },
  {
   "cell_type": "markdown",
   "metadata": {},
   "source": [
    "### Excersise 2.2"
   ]
  },
  {
   "cell_type": "code",
   "execution_count": 13,
   "metadata": {},
   "outputs": [],
   "source": [
    "#Import Apple Data\n",
    "xls = pd.ExcelFile('PS2-2.xlsx')\n",
    "apple_data = pd.read_excel(xls, 'AAPL')\n",
    "apple_data = apple_data.set_index('Date')\n",
    "apple_data['Return AAPL (Apple)'] = apple_data['AAPL Adj Close']/apple_data['AAPL Adj Close'].shift(1) - 1\n",
    "\n",
    "apple_returns = list(stock_data2['Return AAPL (Apple)'])\n",
    "apple_data2 = list(apple_data['Return AAPL (Apple)'])\n",
    "apple_data2[0] = 0.010326\n",
    "\n",
    "apple_series = apple_returns + apple_data2"
   ]
  },
  {
   "cell_type": "code",
   "execution_count": 14,
   "metadata": {},
   "outputs": [
    {
     "name": "stdout",
     "output_type": "stream",
     "text": [
      "[0, 0, 0, 0, 0, 0, 0, 0, 0, 0, 0, 0, 0, 0, 1, 1, 0, 0, 1, 0]\n"
     ]
    }
   ],
   "source": [
    "#Rolling Var Window starting with 13.01.15 - 11.01.18 and rolling 20 days ahead to 09.02.18\n",
    "rolling_var = []\n",
    "for i in range(0,20):\n",
    "    \n",
    "    rolling_var.append(varalpha(apple_series[0+i:756+i], 0.05))\n",
    "\n",
    "var_exceeded = [0]*20\n",
    "for i in range(0,19):\n",
    "    \n",
    "    if rolling_var[i] > apple_series[756+i]:\n",
    "        var_exceeded[i] = 1\n",
    "\n",
    "print(var_exceeded)        "
   ]
  },
  {
   "cell_type": "code",
   "execution_count": 15,
   "metadata": {},
   "outputs": [
    {
     "name": "stdout",
     "output_type": "stream",
     "text": [
      "[ 0.0103 -0.0051  0.0165  0.0009 -0.0045 -0.0082  0.0002 -0.0159 -0.0179\n",
      "  0.0023 -0.0207 -0.0059  0.0028  0.0021 -0.0434 -0.025   0.0418 -0.0214\n",
      " -0.0275  0.0122  0.0403]\n"
     ]
    }
   ],
   "source": [
    "print(np.round(apple_series[756:],4))\n",
    "# The follwing returns are below the Var (-0.0275  at 08.02; -0.025 at 05.02; -0.0434 at 02.02)"
   ]
  },
  {
   "cell_type": "markdown",
   "metadata": {},
   "source": [
    "### Excersise 2.3"
   ]
  },
  {
   "cell_type": "code",
   "execution_count": 16,
   "metadata": {},
   "outputs": [],
   "source": [
    "#Calculate POrtfolio Returns and standard deviation\n",
    "def portfolio_ret(w, expected_returns):\n",
    "    return np.round(np.sum(expected_returns * w),6)\n",
    "\n",
    "def portfolio_vol(w, cov_mat):\n",
    "    return np.dot(np.dot(w.T,cov_mat), w)"
   ]
  },
  {
   "cell_type": "code",
   "execution_count": 17,
   "metadata": {},
   "outputs": [],
   "source": [
    "#Calculate portfolio weights, means, covariance and standard deviation\n",
    "\n",
    "portfolio_weights = np.divide([55000, 15000, 23400, 43200, 131000, 321000, 104000, 38700],\n",
    "                              np.sum([55000, 15000, 23400, 43200, 131000, 321000, 104000, 38700]))\n",
    "\n",
    "assets_mean = np.mean(stock_data2[cols[8:]])\n",
    "\n",
    "cov_mat = np.round(np.cov(stock_data2.iloc[:,8:].values.T[:]),6)\n",
    "\n",
    "portfolio_return = portfolio_ret(portfolio_weights, assets_mean)\n",
    "\n",
    "portfolio_std = np.sqrt(portfolio_vol(portfolio_weights, cov_mat))"
   ]
  },
  {
   "cell_type": "code",
   "execution_count": 18,
   "metadata": {},
   "outputs": [
    {
     "name": "stdout",
     "output_type": "stream",
     "text": [
      "-0.011639949467872399\n"
     ]
    }
   ],
   "source": [
    "portfolio_value_at_risk =  - portfolio_return + norm.ppf(0.05) * portfolio_std\n",
    "print(portfolio_value_at_risk)"
   ]
  },
  {
   "cell_type": "markdown",
   "metadata": {},
   "source": [
    "### Excercise 2.4"
   ]
  },
  {
   "cell_type": "code",
   "execution_count": 19,
   "metadata": {},
   "outputs": [],
   "source": [
    "#Calculate portfolio return series\n",
    "def portfolio_return_series(assets, weights):\n",
    "    #assets is return series \n",
    "    p_retseries = []\n",
    "    \n",
    "    for i in range(0,len(assets.iloc[:,8:].values)):\n",
    "        p_retseries.append(np.sum((assets.iloc[:,8:].values[i] * portfolio_weights)[0]))\n",
    "    \n",
    "    return p_retseries\n",
    "\n",
    "p_retseries = portfolio_return_series(stock_data2, portfolio_weights)"
   ]
  },
  {
   "cell_type": "code",
   "execution_count": 20,
   "metadata": {},
   "outputs": [],
   "source": [
    "#Marginal var\n",
    "def marginal_val(alpha, data):\n",
    "    \n",
    "    z = norm.ppf(alpha)\n",
    "    \n",
    "    sigma_ip = np.cov(data, p_retseries)[0][1]\n",
    "    \n",
    "    sigma_P = portfolio_std\n",
    "    \n",
    "    marginal_var = (sigma_ip/sigma_P) * z\n",
    "    \n",
    "    return marginal_var"
   ]
  },
  {
   "cell_type": "code",
   "execution_count": 22,
   "metadata": {},
   "outputs": [
    {
     "name": "stdout",
     "output_type": "stream",
     "text": [
      "Return WMT (Walmart)\n",
      "-0.0027048311727873647\n",
      "Return AAPL (Apple)\n",
      "-0.0006629782159995206\n",
      "Return DIS (The Walt Disney Company)\n",
      "-0.0005410807565958606\n",
      "Return IBM (International Business Machines Corporation)\n",
      "-0.0006704009310633726\n",
      "Return JNJ (Johnson & Johnson)\n",
      "-0.0005474282505383481\n",
      "Return KO (The Coca-Cola Company)\n",
      "-0.0005286769178026521\n",
      "Return NKE (NIKE, Inc.)\n",
      "-0.0007488853554698904\n",
      "Return TXN (Texas Instruments Incorporated)\n",
      "-0.0006917416500789661\n"
     ]
    }
   ],
   "source": [
    "#Calculate marginal  var for every stock\n",
    "for i in range(8,16):\n",
    "    \n",
    "    print(cols[i])\n",
    "    print(marginal_val(0.05, stock_data2[cols[i]]))\n",
    "    \n",
    "    marginal_var = []\n",
    "    marginal_var.append(marginal_val(0.05, stock_data2[cols[i]]))"
   ]
  },
  {
   "cell_type": "markdown",
   "metadata": {},
   "source": [
    "###  Excercise 2.5"
   ]
  },
  {
   "cell_type": "code",
   "execution_count": 23,
   "metadata": {},
   "outputs": [
    {
     "name": "stdout",
     "output_type": "stream",
     "text": [
      "[0.00446951 0.00121896 0.00190157 0.0035106  0.01064556 0.02608569\n",
      " 0.00845144 0.00314491]\n"
     ]
    }
   ],
   "source": [
    "print(portfolio_weights*marginal_var/portfolio_value_at_risk)"
   ]
  },
  {
   "cell_type": "markdown",
   "metadata": {},
   "source": [
    "###  Excercise 2.6"
   ]
  },
  {
   "cell_type": "code",
   "execution_count": 24,
   "metadata": {},
   "outputs": [],
   "source": [
    "#See word"
   ]
  },
  {
   "cell_type": "markdown",
   "metadata": {},
   "source": [
    "###  Excercise 2.7"
   ]
  },
  {
   "cell_type": "code",
   "execution_count": 25,
   "metadata": {},
   "outputs": [],
   "source": [
    "#Sample 1000 random numbers and use them to generate 1000 Time Series of Apple returns\n",
    "np.random.seed(1)\n",
    "\n",
    "time_series = np.zeros((1000,len(stock_data2['Return AAPL (Apple)'])))\n",
    "\n",
    "for i in range(0,999):\n",
    "    randint = np.int_(np.random.uniform(low = 1, high = len(stock_data2['Return AAPL (Apple)']), size = 1000))\n",
    "    \n",
    "    for j in range(1,len(stock_data2['Return AAPL (Apple)'])):\n",
    "        time_series[i][j] = stock_data2['Return AAPL (Apple)'][randint[j]]  "
   ]
  },
  {
   "cell_type": "code",
   "execution_count": 26,
   "metadata": {},
   "outputs": [],
   "source": [
    "#Calculate, sort and plot diffrent risk measures\n",
    "st_dev = []\n",
    "emp_var99 = [] \n",
    "emp_var95 = []\n",
    "emp_var952 = []\n",
    "\n",
    "def emp_var2(data, alpha):\n",
    "    \n",
    "    index = int(np.around((len(data) / 100 * alpha)))\n",
    "    \n",
    "    returns_sorted = np.sort(data)\n",
    "    \n",
    "    return returns_sorted[index]    \n",
    "\n",
    "\n",
    "for i in range(0,999):\n",
    "    st_dev.append(np.std(time_series[i]))\n",
    "    emp_var99.append(emp_var2(time_series[i], 1))\n",
    "    emp_var95.append(emp_var2(time_series[i], 5))\n",
    "    \n",
    "std_sorted = np.sort(st_dev)\n",
    "emp_var99_sorted = np.sort(emp_var99)\n",
    "emp_var95_sorted = np.sort(emp_var95)"
   ]
  },
  {
   "cell_type": "code",
   "execution_count": 27,
   "metadata": {},
   "outputs": [
    {
     "data": {
      "image/png": "[encoded data removed]",
      "text/plain": [
       "<Figure size 432x288 with 1 Axes>"
      ]
     },
     "metadata": {},
     "output_type": "display_data"
    },
    {
     "data": {
      "image/png": "[encoded data removed]",
      "text/plain": [
       "<Figure size 432x288 with 1 Axes>"
      ]
     },
     "metadata": {},
     "output_type": "display_data"
    },
    {
     "data": {
      "image/png": "[encoded data removed]",
      "text/plain": [
       "<Figure size 432x288 with 1 Axes>"
      ]
     },
     "metadata": {},
     "output_type": "display_data"
    }
   ],
   "source": [
    "# Many timeseries have the same values that are below the var. For that reaosn \n",
    "\n",
    "plt.hist(std_sorted, bins = np.linspace(std_sorted.min(),std_sorted.max()), color = 'red')\n",
    "plt.show()\n",
    "\n",
    "plt.hist(emp_var99_sorted, bins = np.linspace(emp_var99_sorted.min(),emp_var99_sorted.max()), color = 'blue')\n",
    "plt.show()\n",
    "\n",
    "plt.hist(emp_var95_sorted, bins = np.linspace(emp_var95_sorted.min(),emp_var95_sorted.max()), color = 'grey')\n",
    "plt.show()"
   ]
  }
 ],
 "metadata": {
  "kernelspec": {
   "display_name": "Python 3",
   "language": "python",
   "name": "python3"
  },
  "language_info": {
   "codemirror_mode": {
    "name": "ipython",
    "version": 3
   },
   "file_extension": ".py",
   "mimetype": "text/x-python",
   "name": "python",
   "nbconvert_exporter": "python",
   "pygments_lexer": "ipython3",
   "version": "3.6.5"
  }
 },
 "nbformat": 4,
 "nbformat_minor": 2
}
